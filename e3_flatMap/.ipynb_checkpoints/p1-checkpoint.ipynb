{
 "cells": [
  {
   "cell_type": "raw",
   "id": "c414af8e-e386-42c4-a3d5-28e3fbaf058d",
   "metadata": {},
   "source": [
    "pyspark.RDD.flatMap\n",
    "\n",
    "Return a new RDD by first applying a function to all elements of this RDD, and then flattening the results.\n",
    "\n",
    "https://spark.apache.org/docs/latest/api/python/reference/api/pyspark.RDD.flatMap.html\n",
    "\n",
    "On side note: flatMap() is a narrow transformation, i.e.:\n",
    "\n",
    "Data computation happens within the same partition of the parent RDD\n",
    "Data does not get shuffled across the RDD partitions\n",
    "Examples are map(), flatMap(), filter()\n",
    "\n",
    "Other type of transformations is: wide transformation\n",
    "\n",
    "Records that need to be computed are scattered across the partitions of the parent RDD\n",
    "Data gets shuffled while processing\n",
    "Examples are groupByKey(), reduceByKey()\n"
   ]
  },
  {
   "cell_type": "code",
   "execution_count": 2,
   "id": "0558bb2b-9cb9-4e74-92ed-5b86f25f9d99",
   "metadata": {},
   "outputs": [
    {
     "name": "stdout",
     "output_type": "stream",
     "text": [
      "23/02/01 17:40:36 WARN Utils: Your hostname, ashish-Lenovo-ideapad-130-15IKB resolves to a loopback address: 127.0.1.1; using 192.168.1.187 instead (on interface wlp2s0)\n",
      "23/02/01 17:40:36 WARN Utils: Set SPARK_LOCAL_IP if you need to bind to another address\n"
     ]
    },
    {
     "name": "stderr",
     "output_type": "stream",
     "text": [
      "Setting default log level to \"WARN\".\n",
      "To adjust logging level use sc.setLogLevel(newLevel). For SparkR, use setLogLevel(newLevel).\n"
     ]
    },
    {
     "name": "stdout",
     "output_type": "stream",
     "text": [
      "23/02/01 17:40:38 WARN NativeCodeLoader: Unable to load native-hadoop library for your platform... using builtin-java classes where applicable\n"
     ]
    }
   ],
   "source": [
    "from pyspark import SparkContext\n",
    "sc = SparkContext.getOrCreate()"
   ]
  },
  {
   "cell_type": "code",
   "execution_count": 20,
   "id": "79b4efe9-8b88-486d-868f-17668d16de08",
   "metadata": {},
   "outputs": [
    {
     "data": {
      "text/plain": [
       "[1, 1, 1, 2, 2, 3]"
      ]
     },
     "execution_count": 20,
     "metadata": {},
     "output_type": "execute_result"
    }
   ],
   "source": [
    "rdd = sc.parallelize([2, 3, 4])\n",
    "sorted(rdd.flatMap(lambda x: range(1, x)).collect())"
   ]
  },
  {
   "cell_type": "code",
   "execution_count": 19,
   "id": "00436800-919d-4a7f-ba13-c4386cca60f7",
   "metadata": {},
   "outputs": [
    {
     "data": {
      "text/plain": [
       "[(2, 2), (2, 2), (3, 3), (3, 3), (4, 4), (4, 4)]"
      ]
     },
     "execution_count": 19,
     "metadata": {},
     "output_type": "execute_result"
    }
   ],
   "source": [
    "sorted(rdd.flatMap(lambda x: [(x, x), (x, x)]).collect())"
   ]
  },
  {
   "cell_type": "code",
   "execution_count": 3,
   "id": "26ffced4-0a73-4b86-9808-1c39fcb385ab",
   "metadata": {},
   "outputs": [],
   "source": [
    "input =  sc.textFile(\"../in/lorem_ipsum.txt\")"
   ]
  },
  {
   "cell_type": "code",
   "execution_count": 4,
   "id": "6ad88d54-ed51-433e-a4fa-f37bde8a7583",
   "metadata": {},
   "outputs": [
    {
     "name": "stderr",
     "output_type": "stream",
     "text": [
      "                                                                                \r"
     ]
    },
    {
     "data": {
      "text/plain": [
       "['Lorem ipsum dolor sit amet',\n",
       " 'consectetur adipiscing elit',\n",
       " 'sed do eiusmod tempor incididunt ut labore et dolore magna aliqua',\n",
       " 'Lorem ipsum dolor sit amet',\n",
       " 'consectetur adipiscing elit']"
      ]
     },
     "execution_count": 4,
     "metadata": {},
     "output_type": "execute_result"
    }
   ],
   "source": [
    "input.collect()"
   ]
  },
  {
   "cell_type": "code",
   "execution_count": 5,
   "id": "8b0d4e20-9f01-4c8a-9fb3-982fa06d2335",
   "metadata": {},
   "outputs": [],
   "source": [
    "# Transformation statement to split up and flatten into words.\n",
    "words =  input.flatMap(lambda line: line.split(\" \"))"
   ]
  },
  {
   "cell_type": "code",
   "execution_count": 7,
   "id": "1524d54f-f4f4-453d-88c4-0d381aaca197",
   "metadata": {},
   "outputs": [
    {
     "name": "stderr",
     "output_type": "stream",
     "text": [
      "                                                                                \r"
     ]
    },
    {
     "data": {
      "text/plain": [
       "['Lorem',\n",
       " 'ipsum',\n",
       " 'dolor',\n",
       " 'sit',\n",
       " 'amet',\n",
       " 'consectetur',\n",
       " 'adipiscing',\n",
       " 'elit',\n",
       " 'sed',\n",
       " 'do',\n",
       " 'eiusmod',\n",
       " 'tempor',\n",
       " 'incididunt',\n",
       " 'ut',\n",
       " 'labore',\n",
       " 'et',\n",
       " 'dolore',\n",
       " 'magna',\n",
       " 'aliqua',\n",
       " 'Lorem',\n",
       " 'ipsum',\n",
       " 'dolor',\n",
       " 'sit',\n",
       " 'amet',\n",
       " 'consectetur',\n",
       " 'adipiscing',\n",
       " 'elit']"
      ]
     },
     "execution_count": 7,
     "metadata": {},
     "output_type": "execute_result"
    }
   ],
   "source": [
    "words.collect()"
   ]
  },
  {
   "cell_type": "code",
   "execution_count": 8,
   "id": "afb49440-1c7b-4468-9e14-d709f6bc4b0f",
   "metadata": {},
   "outputs": [],
   "source": [
    "# Transformation statement to create a paired structure <Key,value>.\n",
    "counts = words.map(lambda word: (word, 1))"
   ]
  },
  {
   "cell_type": "code",
   "execution_count": 10,
   "id": "93c35417-8e2b-47dd-b86a-ecadc4f755ab",
   "metadata": {},
   "outputs": [
    {
     "data": {
      "text/plain": [
       "[('Lorem', 1),\n",
       " ('ipsum', 1),\n",
       " ('dolor', 1),\n",
       " ('sit', 1),\n",
       " ('amet', 1),\n",
       " ('consectetur', 1),\n",
       " ('adipiscing', 1),\n",
       " ('elit', 1),\n",
       " ('sed', 1),\n",
       " ('do', 1),\n",
       " ('eiusmod', 1),\n",
       " ('tempor', 1),\n",
       " ('incididunt', 1),\n",
       " ('ut', 1),\n",
       " ('labore', 1),\n",
       " ('et', 1),\n",
       " ('dolore', 1),\n",
       " ('magna', 1),\n",
       " ('aliqua', 1),\n",
       " ('Lorem', 1),\n",
       " ('ipsum', 1),\n",
       " ('dolor', 1),\n",
       " ('sit', 1),\n",
       " ('amet', 1),\n",
       " ('consectetur', 1),\n",
       " ('adipiscing', 1),\n",
       " ('elit', 1)]"
      ]
     },
     "execution_count": 10,
     "metadata": {},
     "output_type": "execute_result"
    }
   ],
   "source": [
    "counts.collect()"
   ]
  },
  {
   "cell_type": "code",
   "execution_count": 13,
   "id": "28943ba6-732c-4f70-b52f-a17634997c29",
   "metadata": {},
   "outputs": [
    {
     "name": "stderr",
     "output_type": "stream",
     "text": [
      "                                                                                \r"
     ]
    },
    {
     "data": {
      "text/plain": [
       "[('Lorem', 2),\n",
       " ('ipsum', 2),\n",
       " ('amet', 2),\n",
       " ('consectetur', 2),\n",
       " ('sed', 1),\n",
       " ('do', 1),\n",
       " ('labore', 1),\n",
       " ('magna', 1),\n",
       " ('dolor', 2),\n",
       " ('sit', 2),\n",
       " ('adipiscing', 2),\n",
       " ('elit', 2),\n",
       " ('eiusmod', 1),\n",
       " ('tempor', 1),\n",
       " ('incididunt', 1),\n",
       " ('ut', 1),\n",
       " ('et', 1),\n",
       " ('dolore', 1),\n",
       " ('aliqua', 1)]"
      ]
     },
     "execution_count": 13,
     "metadata": {},
     "output_type": "execute_result"
    }
   ],
   "source": [
    "#Transformation statement to aggregate the values of same key\n",
    "wordcount = counts.reduceByKey(lambda a, b: a+b)\n",
    "#Action statement to print the output on the console\n",
    "wordcount.collect()"
   ]
  },
  {
   "cell_type": "code",
   "execution_count": null,
   "id": "e4d974be-189b-47dd-8ef8-8ffcf50bcbdb",
   "metadata": {},
   "outputs": [],
   "source": []
  }
 ],
 "metadata": {
  "kernelspec": {
   "display_name": "pyspark",
   "language": "python",
   "name": "pyspark"
  },
  "language_info": {
   "codemirror_mode": {
    "name": "ipython",
    "version": 3
   },
   "file_extension": ".py",
   "mimetype": "text/x-python",
   "name": "python",
   "nbconvert_exporter": "python",
   "pygments_lexer": "ipython3",
   "version": "3.9.0"
  }
 },
 "nbformat": 4,
 "nbformat_minor": 5
}
