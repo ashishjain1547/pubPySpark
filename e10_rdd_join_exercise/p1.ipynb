{
 "cells": [
  {
   "cell_type": "raw",
   "id": "2d72dcf1-5995-4ae1-b6ca-8c2009727205",
   "metadata": {},
   "source": [
    "Problem Statement:\n",
    "\n",
    "Consider the Universal Identity Number data scenario with two datasets UIN Customer data and Bank account linking data.\n",
    "\n",
    "UIN Card data (UINCardData.csv):\n",
    "Schema Details: UIN, MobileNumber,Gender,SeniorCitizens,Income\n",
    "\n",
    "Bank account link data (BankAccountLink.csv):\n",
    "Schema Details: MobileNumber, LinkedtoBankAccount, BankAccountNumber\n",
    "\n",
    "Requirement\n",
    "\n",
    "Join both datasets and find the UIN number that is not linked with the Bank Account number. Print UIN number and BankAccountNumber.\n",
    "Save the final output to a specified HDFS directory"
   ]
  },
  {
   "cell_type": "code",
   "execution_count": 39,
   "id": "558db78b-aa6b-445e-94c8-7a1793ba5e56",
   "metadata": {},
   "outputs": [],
   "source": [
    "from pyspark import SparkContext\n",
    "sc = SparkContext.getOrCreate()"
   ]
  },
  {
   "cell_type": "code",
   "execution_count": 73,
   "id": "6575dd5e-9cc0-4eb4-8d62-3a4216918fe0",
   "metadata": {},
   "outputs": [],
   "source": [
    "uin = sc.textFile(\"./UINCardData.csv\")"
   ]
  },
  {
   "cell_type": "code",
   "execution_count": 74,
   "id": "242010a9-3f5e-4592-bed8-00866871bea4",
   "metadata": {},
   "outputs": [
    {
     "data": {
      "text/plain": [
       "['UIN00001,982120000,Male,N,65000',\n",
       " 'UIN00002,982120001,Male,N,35000',\n",
       " 'UIN00003,982120002,Male,N,34000',\n",
       " 'UIN00004,982120003,Male,Y,44000',\n",
       " 'UIN00005,982120004,Male,N,54000']"
      ]
     },
     "execution_count": 74,
     "metadata": {},
     "output_type": "execute_result"
    }
   ],
   "source": [
    "uin.take(5)"
   ]
  },
  {
   "cell_type": "code",
   "execution_count": 75,
   "id": "cc169aa8-590e-48ce-8327-33e80def651d",
   "metadata": {},
   "outputs": [],
   "source": [
    "from collections import namedtuple \n",
    "UINCARD = namedtuple('UINCARD', ['UIN', 'MobileNumber'])"
   ]
  },
  {
   "cell_type": "code",
   "execution_count": 76,
   "id": "0ccbe99d-67b4-42aa-981b-1f94def62bbf",
   "metadata": {},
   "outputs": [],
   "source": [
    "uin = uin.map(lambda line:line.split(\",\")).map(lambda r : (r[1], UINCARD(r[0], r[1])))"
   ]
  },
  {
   "cell_type": "code",
   "execution_count": 77,
   "id": "7a6f7364-3287-4d86-9806-e93330d85a12",
   "metadata": {},
   "outputs": [
    {
     "data": {
      "text/plain": [
       "[('982120000', UINCARD(UIN='UIN00001', MobileNumber='982120000')),\n",
       " ('982120001', UINCARD(UIN='UIN00002', MobileNumber='982120001')),\n",
       " ('982120002', UINCARD(UIN='UIN00003', MobileNumber='982120002')),\n",
       " ('982120003', UINCARD(UIN='UIN00004', MobileNumber='982120003')),\n",
       " ('982120004', UINCARD(UIN='UIN00005', MobileNumber='982120004'))]"
      ]
     },
     "execution_count": 77,
     "metadata": {},
     "output_type": "execute_result"
    }
   ],
   "source": [
    "uin.take(5)"
   ]
  },
  {
   "cell_type": "code",
   "execution_count": 90,
   "id": "f81c4216-8611-4370-8c8e-53ac22a0e5c4",
   "metadata": {},
   "outputs": [],
   "source": [
    "bankacc = sc.textFile(\"BankAccountLink.csv\")"
   ]
  },
  {
   "cell_type": "code",
   "execution_count": 91,
   "id": "e2a4d164-d9df-427b-be78-8a2b57b531d4",
   "metadata": {},
   "outputs": [
    {
     "name": "stdout",
     "output_type": "stream",
     "text": [
      "500\n"
     ]
    },
    {
     "data": {
      "text/plain": [
       "['982120000,Y,20004562111',\n",
       " '982120001,Y,20004562112',\n",
       " '982120002,Y,20004562113',\n",
       " '982120003,Y,20004562114',\n",
       " '982120004,Y,20004562115']"
      ]
     },
     "execution_count": 91,
     "metadata": {},
     "output_type": "execute_result"
    }
   ],
   "source": [
    "print(bankacc.count())\n",
    "bankacc.take(5)"
   ]
  },
  {
   "cell_type": "code",
   "execution_count": 92,
   "id": "11e362cf-360b-434f-9ecc-5d671832a155",
   "metadata": {},
   "outputs": [],
   "source": [
    "bankacc = bankacc.filter(lambda r: r.split(\",\")[1] == 'N')"
   ]
  },
  {
   "cell_type": "code",
   "execution_count": 94,
   "id": "3302773d-a516-4427-8d54-9e5cdf6e15ba",
   "metadata": {},
   "outputs": [
    {
     "name": "stdout",
     "output_type": "stream",
     "text": [
      "53\n"
     ]
    },
    {
     "data": {
      "text/plain": [
       "['982120006,N,20004552111',\n",
       " '982120018,N,20004552112',\n",
       " '982120019,N,20004552113',\n",
       " '982120020,N,20004552114',\n",
       " '982120021,N,20004552115']"
      ]
     },
     "execution_count": 94,
     "metadata": {},
     "output_type": "execute_result"
    }
   ],
   "source": [
    "print(bankacc.count())\n",
    "bankacc.take(5)"
   ]
  },
  {
   "cell_type": "code",
   "execution_count": 95,
   "id": "0374cdca-d02c-49f9-9151-f46c518e5a70",
   "metadata": {},
   "outputs": [],
   "source": [
    "BANKACC = namedtuple('BANKACC', ['MobileNumber', 'LinkedtoBankAccount', 'BankAccountNumber'])"
   ]
  },
  {
   "cell_type": "code",
   "execution_count": 96,
   "id": "fc072acd-12ac-4024-b256-53a2ae6386db",
   "metadata": {},
   "outputs": [],
   "source": [
    "bankacc = bankacc.map(lambda line:line.split(\",\")).map(lambda r : (r[0], BANKACC(r[0], r[1], r[2])))"
   ]
  },
  {
   "cell_type": "code",
   "execution_count": 97,
   "id": "c6d9a502-d272-48fd-91c7-dcc615f6ab7d",
   "metadata": {},
   "outputs": [
    {
     "data": {
      "text/plain": [
       "[('982120006',\n",
       "  BANKACC(MobileNumber='982120006', LinkedtoBankAccount='N', BankAccountNumber='20004552111')),\n",
       " ('982120018',\n",
       "  BANKACC(MobileNumber='982120018', LinkedtoBankAccount='N', BankAccountNumber='20004552112')),\n",
       " ('982120019',\n",
       "  BANKACC(MobileNumber='982120019', LinkedtoBankAccount='N', BankAccountNumber='20004552113')),\n",
       " ('982120020',\n",
       "  BANKACC(MobileNumber='982120020', LinkedtoBankAccount='N', BankAccountNumber='20004552114')),\n",
       " ('982120021',\n",
       "  BANKACC(MobileNumber='982120021', LinkedtoBankAccount='N', BankAccountNumber='20004552115'))]"
      ]
     },
     "execution_count": 97,
     "metadata": {},
     "output_type": "execute_result"
    }
   ],
   "source": [
    "bankacc.take(5)"
   ]
  },
  {
   "cell_type": "code",
   "execution_count": 98,
   "id": "8bb42e60-903f-44e1-9d72-7e75f3d36af3",
   "metadata": {},
   "outputs": [],
   "source": [
    "result = uin.join(bankacc)"
   ]
  },
  {
   "cell_type": "code",
   "execution_count": 99,
   "id": "54a41523-49f9-46df-8504-9a12a894d7b3",
   "metadata": {},
   "outputs": [
    {
     "name": "stderr",
     "output_type": "stream",
     "text": [
      "                                                                                \r"
     ]
    },
    {
     "data": {
      "text/plain": [
       "[('982120006',\n",
       "  (UINCARD(UIN='UIN00007', MobileNumber='982120006'),\n",
       "   BANKACC(MobileNumber='982120006', LinkedtoBankAccount='N', BankAccountNumber='20004552111'))),\n",
       " ('982120020',\n",
       "  (UINCARD(UIN='UIN00021', MobileNumber='982120020'),\n",
       "   BANKACC(MobileNumber='982120020', LinkedtoBankAccount='N', BankAccountNumber='20004552114'))),\n",
       " ('982120048',\n",
       "  (UINCARD(UIN='UIN00049', MobileNumber='982120048'),\n",
       "   BANKACC(MobileNumber='982120048', LinkedtoBankAccount='N', BankAccountNumber='20004552124'))),\n",
       " ('982120049',\n",
       "  (UINCARD(UIN='UIN00050', MobileNumber='982120049'),\n",
       "   BANKACC(MobileNumber='982120049', LinkedtoBankAccount='N', BankAccountNumber='20004552125'))),\n",
       " ('982120297',\n",
       "  (UINCARD(UIN='UIN00298', MobileNumber='982120297'),\n",
       "   BANKACC(MobileNumber='982120297', LinkedtoBankAccount='N', BankAccountNumber='20004552912'))),\n",
       " ('982120301',\n",
       "  (UINCARD(UIN='UIN00302', MobileNumber='982120301'),\n",
       "   BANKACC(MobileNumber='982120301', LinkedtoBankAccount='N', BankAccountNumber='20004552916'))),\n",
       " ('982120313',\n",
       "  (UINCARD(UIN='UIN00314', MobileNumber='982120313'),\n",
       "   BANKACC(MobileNumber='982120313', LinkedtoBankAccount='N', BankAccountNumber='20004552928'))),\n",
       " ('982120324',\n",
       "  (UINCARD(UIN='UIN00325', MobileNumber='982120324'),\n",
       "   BANKACC(MobileNumber='982120324', LinkedtoBankAccount='N', BankAccountNumber='20004552939'))),\n",
       " ('982120018',\n",
       "  (UINCARD(UIN='UIN00019', MobileNumber='982120018'),\n",
       "   BANKACC(MobileNumber='982120018', LinkedtoBankAccount='N', BankAccountNumber='20004552112'))),\n",
       " ('982120019',\n",
       "  (UINCARD(UIN='UIN00020', MobileNumber='982120019'),\n",
       "   BANKACC(MobileNumber='982120019', LinkedtoBankAccount='N', BankAccountNumber='20004552113'))),\n",
       " ('982120021',\n",
       "  (UINCARD(UIN='UIN00022', MobileNumber='982120021'),\n",
       "   BANKACC(MobileNumber='982120021', LinkedtoBankAccount='N', BankAccountNumber='20004552115'))),\n",
       " ('982120022',\n",
       "  (UINCARD(UIN='UIN00023', MobileNumber='982120022'),\n",
       "   BANKACC(MobileNumber='982120022', LinkedtoBankAccount='N', BankAccountNumber='20004552116'))),\n",
       " ('982120030',\n",
       "  (UINCARD(UIN='UIN00031', MobileNumber='982120030'),\n",
       "   BANKACC(MobileNumber='982120030', LinkedtoBankAccount='N', BankAccountNumber='20004552118'))),\n",
       " ('982120033',\n",
       "  (UINCARD(UIN='UIN00034', MobileNumber='982120033'),\n",
       "   BANKACC(MobileNumber='982120033', LinkedtoBankAccount='N', BankAccountNumber='20004552121'))),\n",
       " ('982120046',\n",
       "  (UINCARD(UIN='UIN00047', MobileNumber='982120046'),\n",
       "   BANKACC(MobileNumber='982120046', LinkedtoBankAccount='N', BankAccountNumber='20004552122'))),\n",
       " ('982120047',\n",
       "  (UINCARD(UIN='UIN00048', MobileNumber='982120047'),\n",
       "   BANKACC(MobileNumber='982120047', LinkedtoBankAccount='N', BankAccountNumber='20004552123'))),\n",
       " ('982120052',\n",
       "  (UINCARD(UIN='UIN00053', MobileNumber='982120052'),\n",
       "   BANKACC(MobileNumber='982120052', LinkedtoBankAccount='N', BankAccountNumber='20004552128'))),\n",
       " ('982120300',\n",
       "  (UINCARD(UIN='UIN00301', MobileNumber='982120300'),\n",
       "   BANKACC(MobileNumber='982120300', LinkedtoBankAccount='N', BankAccountNumber='20004552915'))),\n",
       " ('982120309',\n",
       "  (UINCARD(UIN='UIN00310', MobileNumber='982120309'),\n",
       "   BANKACC(MobileNumber='982120309', LinkedtoBankAccount='N', BankAccountNumber='20004552924'))),\n",
       " ('982120310',\n",
       "  (UINCARD(UIN='UIN00311', MobileNumber='982120310'),\n",
       "   BANKACC(MobileNumber='982120310', LinkedtoBankAccount='N', BankAccountNumber='20004552925'))),\n",
       " ('982120312',\n",
       "  (UINCARD(UIN='UIN00313', MobileNumber='982120312'),\n",
       "   BANKACC(MobileNumber='982120312', LinkedtoBankAccount='N', BankAccountNumber='20004552927'))),\n",
       " ('982120315',\n",
       "  (UINCARD(UIN='UIN00316', MobileNumber='982120315'),\n",
       "   BANKACC(MobileNumber='982120315', LinkedtoBankAccount='N', BankAccountNumber='20004552930'))),\n",
       " ('982120316',\n",
       "  (UINCARD(UIN='UIN00317', MobileNumber='982120316'),\n",
       "   BANKACC(MobileNumber='982120316', LinkedtoBankAccount='N', BankAccountNumber='20004552931'))),\n",
       " ('982120317',\n",
       "  (UINCARD(UIN='UIN00318', MobileNumber='982120317'),\n",
       "   BANKACC(MobileNumber='982120317', LinkedtoBankAccount='N', BankAccountNumber='20004552932'))),\n",
       " ('982120318',\n",
       "  (UINCARD(UIN='UIN00319', MobileNumber='982120318'),\n",
       "   BANKACC(MobileNumber='982120318', LinkedtoBankAccount='N', BankAccountNumber='20004552933'))),\n",
       " ('982120320',\n",
       "  (UINCARD(UIN='UIN00321', MobileNumber='982120320'),\n",
       "   BANKACC(MobileNumber='982120320', LinkedtoBankAccount='N', BankAccountNumber='20004552935'))),\n",
       " ('982120325',\n",
       "  (UINCARD(UIN='UIN00326', MobileNumber='982120325'),\n",
       "   BANKACC(MobileNumber='982120325', LinkedtoBankAccount='N', BankAccountNumber='20004552940'))),\n",
       " ('982120031',\n",
       "  (UINCARD(UIN='UIN00032', MobileNumber='982120031'),\n",
       "   BANKACC(MobileNumber='982120031', LinkedtoBankAccount='N', BankAccountNumber='20004552119'))),\n",
       " ('982120051',\n",
       "  (UINCARD(UIN='UIN00052', MobileNumber='982120051'),\n",
       "   BANKACC(MobileNumber='982120051', LinkedtoBankAccount='N', BankAccountNumber='20004552127'))),\n",
       " ('982120053',\n",
       "  (UINCARD(UIN='UIN00054', MobileNumber='982120053'),\n",
       "   BANKACC(MobileNumber='982120053', LinkedtoBankAccount='N', BankAccountNumber='20004552129'))),\n",
       " ('982120055',\n",
       "  (UINCARD(UIN='UIN00056', MobileNumber='982120055'),\n",
       "   BANKACC(MobileNumber='982120055', LinkedtoBankAccount='N', BankAccountNumber='20004552131'))),\n",
       " ('982120298',\n",
       "  (UINCARD(UIN='UIN00299', MobileNumber='982120298'),\n",
       "   BANKACC(MobileNumber='982120298', LinkedtoBankAccount='N', BankAccountNumber='20004552913'))),\n",
       " ('982120299',\n",
       "  (UINCARD(UIN='UIN00300', MobileNumber='982120299'),\n",
       "   BANKACC(MobileNumber='982120299', LinkedtoBankAccount='N', BankAccountNumber='20004552914'))),\n",
       " ('982120304',\n",
       "  (UINCARD(UIN='UIN00305', MobileNumber='982120304'),\n",
       "   BANKACC(MobileNumber='982120304', LinkedtoBankAccount='N', BankAccountNumber='20004552919'))),\n",
       " ('982120306',\n",
       "  (UINCARD(UIN='UIN00307', MobileNumber='982120306'),\n",
       "   BANKACC(MobileNumber='982120306', LinkedtoBankAccount='N', BankAccountNumber='20004552921'))),\n",
       " ('982120307',\n",
       "  (UINCARD(UIN='UIN00308', MobileNumber='982120307'),\n",
       "   BANKACC(MobileNumber='982120307', LinkedtoBankAccount='N', BankAccountNumber='20004552922'))),\n",
       " ('982120314',\n",
       "  (UINCARD(UIN='UIN00315', MobileNumber='982120314'),\n",
       "   BANKACC(MobileNumber='982120314', LinkedtoBankAccount='N', BankAccountNumber='20004552929'))),\n",
       " ('982120319',\n",
       "  (UINCARD(UIN='UIN00320', MobileNumber='982120319'),\n",
       "   BANKACC(MobileNumber='982120319', LinkedtoBankAccount='N', BankAccountNumber='20004552934'))),\n",
       " ('982120029',\n",
       "  (UINCARD(UIN='UIN00030', MobileNumber='982120029'),\n",
       "   BANKACC(MobileNumber='982120029', LinkedtoBankAccount='N', BankAccountNumber='20004552117'))),\n",
       " ('982120032',\n",
       "  (UINCARD(UIN='UIN00033', MobileNumber='982120032'),\n",
       "   BANKACC(MobileNumber='982120032', LinkedtoBankAccount='N', BankAccountNumber='20004552110'))),\n",
       " ('982120050',\n",
       "  (UINCARD(UIN='UIN00051', MobileNumber='982120050'),\n",
       "   BANKACC(MobileNumber='982120050', LinkedtoBankAccount='N', BankAccountNumber='20004552126'))),\n",
       " ('982120054',\n",
       "  (UINCARD(UIN='UIN00055', MobileNumber='982120054'),\n",
       "   BANKACC(MobileNumber='982120054', LinkedtoBankAccount='N', BankAccountNumber='20004552130'))),\n",
       " ('982120056',\n",
       "  (UINCARD(UIN='UIN00057', MobileNumber='982120056'),\n",
       "   BANKACC(MobileNumber='982120056', LinkedtoBankAccount='N', BankAccountNumber='20004552132'))),\n",
       " ('982120296',\n",
       "  (UINCARD(UIN='UIN00297', MobileNumber='982120296'),\n",
       "   BANKACC(MobileNumber='982120296', LinkedtoBankAccount='N', BankAccountNumber='20004552911'))),\n",
       " ('982120302',\n",
       "  (UINCARD(UIN='UIN00303', MobileNumber='982120302'),\n",
       "   BANKACC(MobileNumber='982120302', LinkedtoBankAccount='N', BankAccountNumber='20004552917'))),\n",
       " ('982120303',\n",
       "  (UINCARD(UIN='UIN00304', MobileNumber='982120303'),\n",
       "   BANKACC(MobileNumber='982120303', LinkedtoBankAccount='N', BankAccountNumber='20004552918'))),\n",
       " ('982120305',\n",
       "  (UINCARD(UIN='UIN00306', MobileNumber='982120305'),\n",
       "   BANKACC(MobileNumber='982120305', LinkedtoBankAccount='N', BankAccountNumber='20004552920'))),\n",
       " ('982120308',\n",
       "  (UINCARD(UIN='UIN00309', MobileNumber='982120308'),\n",
       "   BANKACC(MobileNumber='982120308', LinkedtoBankAccount='N', BankAccountNumber='20004552923'))),\n",
       " ('982120311',\n",
       "  (UINCARD(UIN='UIN00312', MobileNumber='982120311'),\n",
       "   BANKACC(MobileNumber='982120311', LinkedtoBankAccount='N', BankAccountNumber='20004552926'))),\n",
       " ('982120321',\n",
       "  (UINCARD(UIN='UIN00322', MobileNumber='982120321'),\n",
       "   BANKACC(MobileNumber='982120321', LinkedtoBankAccount='N', BankAccountNumber='20004552936'))),\n",
       " ('982120322',\n",
       "  (UINCARD(UIN='UIN00323', MobileNumber='982120322'),\n",
       "   BANKACC(MobileNumber='982120322', LinkedtoBankAccount='N', BankAccountNumber='20004552937'))),\n",
       " ('982120323',\n",
       "  (UINCARD(UIN='UIN00324', MobileNumber='982120323'),\n",
       "   BANKACC(MobileNumber='982120323', LinkedtoBankAccount='N', BankAccountNumber='20004552938'))),\n",
       " ('982120326',\n",
       "  (UINCARD(UIN='UIN00327', MobileNumber='982120326'),\n",
       "   BANKACC(MobileNumber='982120326', LinkedtoBankAccount='N', BankAccountNumber='20004552941')))]"
      ]
     },
     "execution_count": 99,
     "metadata": {},
     "output_type": "execute_result"
    }
   ],
   "source": [
    "result.collect()"
   ]
  },
  {
   "cell_type": "code",
   "execution_count": null,
   "id": "03051f11-f611-41b0-81bc-16dd9d0d0d47",
   "metadata": {},
   "outputs": [],
   "source": []
  }
 ],
 "metadata": {
  "kernelspec": {
   "display_name": "pyspark",
   "language": "python",
   "name": "pyspark"
  },
  "language_info": {
   "codemirror_mode": {
    "name": "ipython",
    "version": 3
   },
   "file_extension": ".py",
   "mimetype": "text/x-python",
   "name": "python",
   "nbconvert_exporter": "python",
   "pygments_lexer": "ipython3",
   "version": "3.9.0"
  }
 },
 "nbformat": 4,
 "nbformat_minor": 5
}
