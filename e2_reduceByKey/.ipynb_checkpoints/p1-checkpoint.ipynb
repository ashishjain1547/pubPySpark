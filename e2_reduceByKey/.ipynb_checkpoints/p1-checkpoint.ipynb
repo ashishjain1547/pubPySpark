{
 "cells": [
  {
   "cell_type": "raw",
   "id": "37b5692c-9794-4212-9a26-7a6eaf818818",
   "metadata": {},
   "source": [
    "pyspark.RDD.reduceByKey()\n",
    "\n",
    "Merge the values for each key using an associative and commutative reduce function.\n",
    "\n",
    "What is the associative property? \n",
    "The associative property is a math rule that says that the way in which factors are grouped in a multiplication problem does not change the product.\n",
    "\n",
    "What is the commutative property? \n",
    "The commutative property is a math rule that says that the order in which we multiply numbers does not change the product.\n",
    "\n",
    "Ref: https://spark.apache.org/docs/latest/api/python/reference/api/pyspark.RDD.reduceByKey.html"
   ]
  },
  {
   "cell_type": "code",
   "execution_count": 32,
   "id": "eab19849-b615-42df-9b75-73e84993e29d",
   "metadata": {},
   "outputs": [],
   "source": [
    "from pyspark import SparkContext\n",
    "sc = SparkContext.getOrCreate()"
   ]
  },
  {
   "cell_type": "code",
   "execution_count": 33,
   "id": "9e2774ea-13a7-4dd9-b6fd-30b58ade5f45",
   "metadata": {},
   "outputs": [
    {
     "data": {
      "text/plain": [
       "[('a', 2), ('b', 1)]"
      ]
     },
     "execution_count": 33,
     "metadata": {},
     "output_type": "execute_result"
    }
   ],
   "source": [
    "from operator import add\n",
    "\n",
    "rdd = sc.parallelize([(\"a\", 1), (\"b\", 1), (\"a\", 1)])\n",
    "\n",
    "sorted(rdd.reduceByKey(add).collect())"
   ]
  },
  {
   "cell_type": "markdown",
   "id": "6d4e6bb5-2d1e-46ae-b282-b209117cd074",
   "metadata": {},
   "source": [
    "# One More Basic Example Before The Word Count Program"
   ]
  },
  {
   "cell_type": "code",
   "execution_count": 34,
   "id": "6b6b17c8-0cd2-4a1a-887a-285a87498e86",
   "metadata": {},
   "outputs": [
    {
     "name": "stdout",
     "output_type": "stream",
     "text": [
      "('Gutenberg’s', 3)\n",
      "('Alice’s', 1)\n",
      "('in', 2)\n",
      "('Adventures', 2)\n",
      "('Wonderland', 2)\n",
      "('Project', 3)\n"
     ]
    }
   ],
   "source": [
    "data = [('Project', 1),\n",
    "('Gutenberg’s', 1),\n",
    "('Alice’s', 1),\n",
    "('Adventures', 1),\n",
    "('in', 1),\n",
    "('Wonderland', 1),\n",
    "('Project', 1),\n",
    "('Gutenberg’s', 1),\n",
    "('Adventures', 1),\n",
    "('in', 1),\n",
    "('Wonderland', 1),\n",
    "('Project', 1),\n",
    "('Gutenberg’s', 1)]\n",
    "\n",
    "rdd = sc.parallelize(data)\n",
    "\n",
    "rdd2 = rdd.reduceByKey(lambda a,b: a+b)\n",
    "\n",
    "for element in rdd2.collect():\n",
    "    print(element)"
   ]
  },
  {
   "cell_type": "markdown",
   "id": "eefa5046-9290-4f4b-af66-f729d9357a65",
   "metadata": {},
   "source": [
    "# Word Count Program"
   ]
  },
  {
   "cell_type": "code",
   "execution_count": 35,
   "id": "6136d181-2f6f-4021-b2c4-50e74fa4a20d",
   "metadata": {},
   "outputs": [],
   "source": [
    "txt = \"\"\"Lorem ipsum dolor sit amet, consectetur adipiscing elit, sed do eiusmod tempor incididunt ut labore et dolore magna aliqua. Lorem ipsum dolor sit amet, consectetur adipiscing elit.\"\"\"\n",
    "txt_tokens = txt.split()"
   ]
  },
  {
   "cell_type": "code",
   "execution_count": 36,
   "id": "8cbd8d7a-5121-4417-8825-2abc44ecb281",
   "metadata": {},
   "outputs": [],
   "source": [
    "txt_rdd = sc.parallelize(txt_tokens)"
   ]
  },
  {
   "cell_type": "code",
   "execution_count": 37,
   "id": "0b730b70-ebcf-4d46-8a0a-17f990477bbb",
   "metadata": {},
   "outputs": [
    {
     "data": {
      "text/plain": [
       "[('Lorem', 1),\n",
       " ('ipsum', 1),\n",
       " ('dolor', 1),\n",
       " ('sit', 1),\n",
       " ('amet,', 1),\n",
       " ('consectetur', 1),\n",
       " ('adipiscing', 1),\n",
       " ('elit,', 1),\n",
       " ('sed', 1),\n",
       " ('do', 1),\n",
       " ('eiusmod', 1),\n",
       " ('tempor', 1),\n",
       " ('incididunt', 1),\n",
       " ('ut', 1),\n",
       " ('labore', 1),\n",
       " ('et', 1),\n",
       " ('dolore', 1),\n",
       " ('magna', 1),\n",
       " ('aliqua.', 1),\n",
       " ('Lorem', 1),\n",
       " ('ipsum', 1),\n",
       " ('dolor', 1),\n",
       " ('sit', 1),\n",
       " ('amet,', 1),\n",
       " ('consectetur', 1),\n",
       " ('adipiscing', 1),\n",
       " ('elit.', 1)]"
      ]
     },
     "execution_count": 37,
     "metadata": {},
     "output_type": "execute_result"
    }
   ],
   "source": [
    "txt_rdd.map(lambda s : (s, 1)).collect()"
   ]
  },
  {
   "cell_type": "code",
   "execution_count": 38,
   "id": "c0467aa7-c635-4fff-8483-cf080bf84e00",
   "metadata": {},
   "outputs": [
    {
     "name": "stdout",
     "output_type": "stream",
     "text": [
      "('Lorem', 2)\n",
      "('ipsum', 2)\n",
      "('consectetur', 2)\n",
      "('do', 1)\n",
      "('elit.', 1)\n",
      "('dolor', 2)\n",
      "('sit', 2)\n",
      "('amet,', 2)\n",
      "('adipiscing', 2)\n",
      "('eiusmod', 1)\n",
      "('tempor', 1)\n",
      "('incididunt', 1)\n",
      "('ut', 1)\n",
      "('et', 1)\n",
      "('sed', 1)\n",
      "('labore', 1)\n",
      "('magna', 1)\n",
      "('elit,', 1)\n",
      "('dolore', 1)\n",
      "('aliqua.', 1)\n"
     ]
    }
   ],
   "source": [
    "word_counts = txt_rdd.map(lambda s : (s,1)).reduceByKey(lambda a, b: a + b)\n",
    "for word in word_counts.collect():\n",
    "    print(word)"
   ]
  },
  {
   "cell_type": "markdown",
   "id": "b8888055-024f-4cd2-963a-0a7db344eaf9",
   "metadata": {},
   "source": [
    "# Line count program"
   ]
  },
  {
   "cell_type": "code",
   "execution_count": 39,
   "id": "c757dcad-354e-48eb-99ee-598202857391",
   "metadata": {},
   "outputs": [
    {
     "name": "stdout",
     "output_type": "stream",
     "text": [
      "('Lorem ipsum dolor sit amet', 2)\n",
      "('consectetur adipiscing elit', 2)\n",
      "('sed do eiusmod tempor incididunt ut labore et dolore magna aliqua', 1)\n"
     ]
    }
   ],
   "source": [
    "lines = sc.textFile(\"in/lorem_ipsum.txt\")\n",
    "lineLengths = lines.map(lambda s : (s,1)).reduceByKey(lambda a, b: a + b)\n",
    "for word in lineLengths.collect():\n",
    "    print(word)"
   ]
  },
  {
   "cell_type": "raw",
   "id": "7505146e-5496-4eca-9d12-42814c5a1f84",
   "metadata": {},
   "source": [
    "Note: This program can also be used to compute the number of duplicate occurrences of records in a dataset"
   ]
  },
  {
   "cell_type": "code",
   "execution_count": null,
   "id": "575715f8-b052-4c64-92b1-805889c7b6ac",
   "metadata": {},
   "outputs": [],
   "source": []
  }
 ],
 "metadata": {
  "kernelspec": {
   "display_name": "pyspark",
   "language": "python",
   "name": "pyspark"
  },
  "language_info": {
   "codemirror_mode": {
    "name": "ipython",
    "version": 3
   },
   "file_extension": ".py",
   "mimetype": "text/x-python",
   "name": "python",
   "nbconvert_exporter": "python",
   "pygments_lexer": "ipython3",
   "version": "3.9.0"
  }
 },
 "nbformat": 4,
 "nbformat_minor": 5
}
