{
 "cells": [
  {
   "cell_type": "raw",
   "id": "0fa3b0a6-674c-4ef6-89c5-64febfb4777d",
   "metadata": {},
   "source": [
    "Join Types\n",
    "Inner Join\n",
    "\n",
    "The inner join is the default join in Spark SQL. It selects rows that have matching values in both relations.\n",
    "\n",
    "Syntax:\n",
    "\n",
    "relation [ INNER ] JOIN relation [ join_criteria ]\n",
    "Left Join\n",
    "\n",
    "A left join returns all values from the left relation and the matched values from the right relation, or appends NULL if there is no match. It is also referred to as a left outer join.\n",
    "\n",
    "Syntax:\n",
    "\n",
    "relation LEFT [ OUTER ] JOIN relation [ join_criteria ]\n",
    "Right Join\n",
    "\n",
    "A right join returns all values from the right relation and the matched values from the left relation, or appends NULL if there is no match. It is also referred to as a right outer join.\n",
    "\n",
    "Syntax:\n",
    "\n",
    "relation RIGHT [ OUTER ] JOIN relation [ join_criteria ]\n",
    "Full Join\n",
    "\n",
    "A full join returns all values from both relations, appending NULL values on the side that does not have a match. It is also referred to as a full outer join.\n",
    "\n",
    "Syntax:\n",
    "\n",
    "relation FULL [ OUTER ] JOIN relation [ join_criteria ]\n",
    "Cross Join\n",
    "\n",
    "A cross join returns the Cartesian product of two relations.\n",
    "\n",
    "Syntax:\n",
    "\n",
    "relation CROSS JOIN relation [ join_criteria ]\n",
    "Semi Join\n",
    "\n",
    "A semi join returns values from the left side of the relation that has a match with the right. It is also referred to as a left semi join.\n",
    "\n",
    "Syntax:\n",
    "\n",
    "relation [ LEFT ] SEMI JOIN relation [ join_criteria ]\n",
    "Anti Join\n",
    "\n",
    "An anti join returns values from the left relation that has no match with the right. It is also referred to as a left anti join.\n",
    "\n",
    "Syntax:\n",
    "\n",
    "relation [ LEFT ] ANTI JOIN relation [ join_criteria ]\n",
    "\n",
    "Ref: https://spark.apache.org/docs/latest/sql-ref-syntax-qry-select-join.html"
   ]
  },
  {
   "cell_type": "markdown",
   "id": "aa0ff32b-4fb9-4b87-bf03-87085e511239",
   "metadata": {},
   "source": [
    "# 1: Using RDD"
   ]
  },
  {
   "cell_type": "raw",
   "id": "ee573c85-42ba-4d7f-85d5-c42fb3b824b1",
   "metadata": {},
   "source": [
    "Spark provides a join() function that can join two paired RDDs based on the same key.\n",
    "\n",
    "join(): Performs an inner join between two RDDs: firstRDD.join(laterRDD)\n",
    "rightOuterJoin(): Performs join operation between two RDDs with key present in first RDD: firstRDD.rightOuterJoin(laterRDD)\n",
    "leftOuterJoin(): Performs join operation between two RDDs with key present in the later RDD: firstRDD.leftOuterJoin(laterRDD)\n",
    "\n",
    "Requirement:\n",
    "\n",
    "Let us consider two different datasets of ArisCCNetwork RouterLocation.tsv and RouterPurchase.tsv.\n",
    "\n",
    "Schema:\n",
    "\n",
    "RouterLocation.tsv: RouterID, Name, Location\n",
    "\n",
    "RouterPurchase.tsv: RouterID, Date, PrimaryMemory, SecondaryMemory, Cost\n",
    "\n",
    "Join these two datasets to fetch Routers Location, Cost, and Memory details into a single RDD.\n",
    "\n",
    "Implementation steps to join\n",
    "\n",
    "Step 1: Create namedtuple classes representing datasets\n",
    "\n",
    "Create two namedtuple representing the schema of each dataset.\n",
    "\n",
    "Note: namedtuple is just like a dictionary. It improves the code readability by providing a way to access the values using descriptive field names.\n",
    "\n",
    "Step 2: Generate <K,V> pairs using namedtuple\n",
    "\n",
    "In this step,\n",
    "\n",
    "datasets are loaded as RDDs\n",
    "\n",
    "Paired RDDs <K, V> are created where K = common column in both RDDs, V = value part which contains a complete record \n",
    "\n",
    "Step 3: Apply the join() function\n",
    "\n",
    "Spark join is applied against the grouped fields of locRDD and purRDD from the previous step. "
   ]
  },
  {
   "cell_type": "code",
   "execution_count": 19,
   "id": "7d54c62e-4c9c-487a-b0d1-bec51405a971",
   "metadata": {},
   "outputs": [],
   "source": [
    "from pyspark import SparkContext\n",
    "sc = SparkContext.getOrCreate()"
   ]
  },
  {
   "cell_type": "code",
   "execution_count": 20,
   "id": "82299c67-3a08-4fd5-be05-acb0d41e72d5",
   "metadata": {},
   "outputs": [],
   "source": [
    "from collections import namedtuple \n",
    "RouterLocation = namedtuple('RouterLocation',['rid','name','location'])\n",
    "RouterPurchase = namedtuple('RouterPurchase',['rid','date','pmemory','smemory','cost'])"
   ]
  },
  {
   "cell_type": "code",
   "execution_count": 21,
   "id": "9ae3eae1-23be-4ba9-b014-058895a0144f",
   "metadata": {},
   "outputs": [],
   "source": [
    "#Load RouterLocation dataset and generate Rid(common field),RouterLocation object\n",
    "locRDD = sc.textFile(\"../in/RouterLocation.tsv\")\\\n",
    ".map(lambda line:line.split(\"\\t\"))\\\n",
    ".map(lambda r : (r[0], RouterLocation(int(r[0]), r[1], r[2])))"
   ]
  },
  {
   "cell_type": "code",
   "execution_count": 22,
   "id": "8e38e42e-b04d-45cc-b714-cc8d2d8a2b5f",
   "metadata": {},
   "outputs": [],
   "source": [
    "#Load RouterPurchase dataset and generate Rid(common field),RouterLocation object\n",
    "purRDD = sc.textFile(\"../in/RouterPurchase.tsv\")\\\n",
    ".map(lambda line:line.split(\"\\t\"))\\\n",
    ".map(lambda r : (r[0], RouterPurchase(int(r[0]), r[1], int(r[2]), int(r[3]), r[4])))"
   ]
  },
  {
   "cell_type": "code",
   "execution_count": 23,
   "id": "5d9fedcc-bb0b-47ce-bc9d-641aa317c3b7",
   "metadata": {},
   "outputs": [
    {
     "data": {
      "text/plain": [
       "[('1', RouterLocation(rid=1, name='RTR1', location='Chennai')),\n",
       " ('2', RouterLocation(rid=2, name='RTR2', location='Bangalore')),\n",
       " ('3', RouterLocation(rid=3, name='RTR3', location='Pune')),\n",
       " ('4', RouterLocation(rid=4, name='RTR4', location='Delhi')),\n",
       " ('5', RouterLocation(rid=5, name='RTR5', location='Mumbai'))]"
      ]
     },
     "execution_count": 23,
     "metadata": {},
     "output_type": "execute_result"
    }
   ],
   "source": [
    "locRDD.collect()"
   ]
  },
  {
   "cell_type": "code",
   "execution_count": 24,
   "id": "251d09ba-d4dc-42f2-b1e5-692d0f2cba7b",
   "metadata": {},
   "outputs": [],
   "source": [
    "result = locRDD.join(purRDD)"
   ]
  },
  {
   "cell_type": "code",
   "execution_count": 25,
   "id": "2fdf999e-16b4-4ade-b2af-f5507473907a",
   "metadata": {},
   "outputs": [
    {
     "data": {
      "text/plain": [
       "[('4',\n",
       "  (RouterLocation(rid=4, name='RTR4', location='Delhi'),\n",
       "   RouterPurchase(rid=4, date='9/3/2014', pmemory=653235467, smemory=245913333, cost='1000USD'))),\n",
       " ('3',\n",
       "  (RouterLocation(rid=3, name='RTR3', location='Pune'),\n",
       "   RouterPurchase(rid=3, date='6/10/2013', pmemory=453232267, smemory=325913333, cost='1200USD'))),\n",
       " ('1',\n",
       "  (RouterLocation(rid=1, name='RTR1', location='Chennai'),\n",
       "   RouterPurchase(rid=1, date='9/3/2012', pmemory=453232267, smemory=175913333, cost='1000USD'))),\n",
       " ('2',\n",
       "  (RouterLocation(rid=2, name='RTR2', location='Bangalore'),\n",
       "   RouterPurchase(rid=2, date='9/7/2012', pmemory=453232345, smemory=255913333, cost='1500USD'))),\n",
       " ('5',\n",
       "  (RouterLocation(rid=5, name='RTR5', location='Mumbai'),\n",
       "   RouterPurchase(rid=5, date='7/7/2014', pmemory=373232267, smemory=465913333, cost='1300USD')))]"
      ]
     },
     "execution_count": 25,
     "metadata": {},
     "output_type": "execute_result"
    }
   ],
   "source": [
    "result.collect()"
   ]
  },
  {
   "cell_type": "markdown",
   "id": "2de97341-3c82-4058-bef0-2ca75807e9d0",
   "metadata": {},
   "source": [
    "# 2: Using SQL DataFrames"
   ]
  },
  {
   "cell_type": "code",
   "execution_count": 26,
   "id": "abffe180-2e82-471b-b570-07ade0ad9401",
   "metadata": {},
   "outputs": [],
   "source": [
    "from pyspark.sql import SparkSession\n",
    "\n",
    "spark = SparkSession.builder.getOrCreate()"
   ]
  },
  {
   "cell_type": "code",
   "execution_count": 50,
   "id": "cc4e364d-0834-40c4-b0d8-85499fe2dcc8",
   "metadata": {},
   "outputs": [],
   "source": [
    "df = spark.read.option(\"header\", False).option(\"delimiter\", \"\\t\").csv('../in/RouterLocation.tsv')\n",
    "# Ref: https://spark.apache.org/docs/latest/sql-data-sources-csv.html"
   ]
  },
  {
   "cell_type": "code",
   "execution_count": 51,
   "id": "3039f17b-6f62-4b4c-be19-435b8ba7c41b",
   "metadata": {},
   "outputs": [],
   "source": [
    "df = df.withColumnRenamed(\"_c0\", \"rid\")\\\n",
    ".withColumnRenamed(\"_c1\", \"name\")\\\n",
    ".withColumnRenamed(\"_c2\", \"location\")"
   ]
  },
  {
   "cell_type": "code",
   "execution_count": 52,
   "id": "a54ab6b2-b011-4250-bc76-c85dae91a668",
   "metadata": {},
   "outputs": [
    {
     "name": "stdout",
     "output_type": "stream",
     "text": [
      "+---+----+---------+\n",
      "|rid|name| location|\n",
      "+---+----+---------+\n",
      "|  1|RTR1|  Chennai|\n",
      "|  2|RTR2|Bangalore|\n",
      "|  3|RTR3|     Pune|\n",
      "|  4|RTR4|    Delhi|\n",
      "|  5|RTR5|   Mumbai|\n",
      "+---+----+---------+\n",
      "\n"
     ]
    }
   ],
   "source": [
    "df.show()"
   ]
  },
  {
   "cell_type": "code",
   "execution_count": 43,
   "id": "62763ffd-6eef-48f2-a9a9-2ca94ef8ea52",
   "metadata": {},
   "outputs": [],
   "source": [
    "dfp = spark.read.option(\"header\", False).option(\"delimiter\", \"\\t\").csv('../in/RouterPurchase.tsv')"
   ]
  },
  {
   "cell_type": "code",
   "execution_count": 44,
   "id": "001580c1-c679-44a7-93c7-2083bc5eccf1",
   "metadata": {},
   "outputs": [
    {
     "name": "stdout",
     "output_type": "stream",
     "text": [
      "+---+---------+---------+---------+-------+\n",
      "|_c0|      _c1|      _c2|      _c3|    _c4|\n",
      "+---+---------+---------+---------+-------+\n",
      "|  1| 9/3/2012|453232267|175913333|1000USD|\n",
      "|  2| 9/7/2012|453232345|255913333|1500USD|\n",
      "|  3|6/10/2013|453232267|325913333|1200USD|\n",
      "|  4| 9/3/2014|653235467|245913333|1000USD|\n",
      "|  5| 7/7/2014|373232267|465913333|1300USD|\n",
      "+---+---------+---------+---------+-------+\n",
      "\n"
     ]
    }
   ],
   "source": [
    "dfp.show()"
   ]
  },
  {
   "cell_type": "code",
   "execution_count": 46,
   "id": "23a8bf7d-de1d-42ef-b94f-1548a03b827d",
   "metadata": {},
   "outputs": [],
   "source": [
    "dfp = dfp.withColumnRenamed(\"_c0\", \"rid\")\\\n",
    ".withColumnRenamed(\"_c1\", \"date\")\\\n",
    ".withColumnRenamed(\"_c2\", \"pmemory\")\\\n",
    ".withColumnRenamed(\"_c3\", \"smemory\")\\\n",
    ".withColumnRenamed(\"_c4\", \"cost\")"
   ]
  },
  {
   "cell_type": "code",
   "execution_count": 47,
   "id": "78d0a3dd-0333-4804-979f-6f606cc13892",
   "metadata": {},
   "outputs": [
    {
     "name": "stdout",
     "output_type": "stream",
     "text": [
      "+---+---------+---------+---------+-------+\n",
      "|rid|     date|  pmemory|  smemory|   cost|\n",
      "+---+---------+---------+---------+-------+\n",
      "|  1| 9/3/2012|453232267|175913333|1000USD|\n",
      "|  2| 9/7/2012|453232345|255913333|1500USD|\n",
      "|  3|6/10/2013|453232267|325913333|1200USD|\n",
      "|  4| 9/3/2014|653235467|245913333|1000USD|\n",
      "|  5| 7/7/2014|373232267|465913333|1300USD|\n",
      "+---+---------+---------+---------+-------+\n",
      "\n"
     ]
    }
   ],
   "source": [
    "dfp.show()"
   ]
  },
  {
   "cell_type": "code",
   "execution_count": 56,
   "id": "643e5d26-8f07-4481-af82-d1dbe4d93959",
   "metadata": {},
   "outputs": [],
   "source": [
    "res = df.join(dfp, df.rid == dfp.rid, how = 'inner')"
   ]
  },
  {
   "cell_type": "code",
   "execution_count": 57,
   "id": "ff2caef1-f7f4-4c27-9903-402469a38336",
   "metadata": {},
   "outputs": [
    {
     "name": "stdout",
     "output_type": "stream",
     "text": [
      "+---+----+---------+---+---------+---------+---------+-------+\n",
      "|rid|name| location|rid|     date|  pmemory|  smemory|   cost|\n",
      "+---+----+---------+---+---------+---------+---------+-------+\n",
      "|  1|RTR1|  Chennai|  1| 9/3/2012|453232267|175913333|1000USD|\n",
      "|  2|RTR2|Bangalore|  2| 9/7/2012|453232345|255913333|1500USD|\n",
      "|  3|RTR3|     Pune|  3|6/10/2013|453232267|325913333|1200USD|\n",
      "|  4|RTR4|    Delhi|  4| 9/3/2014|653235467|245913333|1000USD|\n",
      "|  5|RTR5|   Mumbai|  5| 7/7/2014|373232267|465913333|1300USD|\n",
      "+---+----+---------+---+---------+---------+---------+-------+\n",
      "\n"
     ]
    }
   ],
   "source": [
    "res.show()"
   ]
  },
  {
   "cell_type": "raw",
   "id": "4810d999-4d0d-4406-bfb7-a119ac85f002",
   "metadata": {},
   "source": [
    "how: str, optional\n",
    "\n",
    "default inner. \n",
    "Must be one of: inner, cross, outer, full, fullouter, full_outer, left, leftouter, left_outer, right, rightouter, right_outer, semi, leftsemi, left_semi, anti, leftanti and left_anti."
   ]
  },
  {
   "cell_type": "markdown",
   "id": "9e95c4fe-b8ec-4677-95e5-78b53f39a0f2",
   "metadata": {},
   "source": [
    "# 3: Using PySpark.Pandas"
   ]
  },
  {
   "cell_type": "code",
   "execution_count": 60,
   "id": "f37edf7c-a130-4932-a18d-a99cee0b11d4",
   "metadata": {},
   "outputs": [
    {
     "name": "stderr",
     "output_type": "stream",
     "text": [
      "/home/ashish/anaconda3/envs/pyspark/lib/python3.9/site-packages/pyspark/pandas/utils.py:975: PandasAPIOnSparkAdviceWarning: If `index_col` is not specified for `read_csv`, the default index is attached which can cause additional overhead.\n",
      "  warnings.warn(message, PandasAPIOnSparkAdviceWarning)\n"
     ]
    }
   ],
   "source": [
    "from pyspark import pandas as ppd\n",
    "dfl = ppd.read_csv('../in/RouterLocation.tsv', sep = '\\t',\n",
    "                         names = ['rid', 'name', 'location'])"
   ]
  },
  {
   "cell_type": "code",
   "execution_count": 61,
   "id": "c3095936-5164-4e7e-92c6-eb7138f5f2d2",
   "metadata": {},
   "outputs": [
    {
     "data": {
      "text/html": [
       "<div>\n",
       "<style scoped>\n",
       "    .dataframe tbody tr th:only-of-type {\n",
       "        vertical-align: middle;\n",
       "    }\n",
       "\n",
       "    .dataframe tbody tr th {\n",
       "        vertical-align: top;\n",
       "    }\n",
       "\n",
       "    .dataframe thead th {\n",
       "        text-align: right;\n",
       "    }\n",
       "</style>\n",
       "<table border=\"1\" class=\"dataframe\">\n",
       "  <thead>\n",
       "    <tr style=\"text-align: right;\">\n",
       "      <th></th>\n",
       "      <th>rid</th>\n",
       "      <th>name</th>\n",
       "      <th>location</th>\n",
       "    </tr>\n",
       "  </thead>\n",
       "  <tbody>\n",
       "    <tr>\n",
       "      <th>0</th>\n",
       "      <td>1</td>\n",
       "      <td>RTR1</td>\n",
       "      <td>Chennai</td>\n",
       "    </tr>\n",
       "    <tr>\n",
       "      <th>1</th>\n",
       "      <td>2</td>\n",
       "      <td>RTR2</td>\n",
       "      <td>Bangalore</td>\n",
       "    </tr>\n",
       "    <tr>\n",
       "      <th>2</th>\n",
       "      <td>3</td>\n",
       "      <td>RTR3</td>\n",
       "      <td>Pune</td>\n",
       "    </tr>\n",
       "    <tr>\n",
       "      <th>3</th>\n",
       "      <td>4</td>\n",
       "      <td>RTR4</td>\n",
       "      <td>Delhi</td>\n",
       "    </tr>\n",
       "    <tr>\n",
       "      <th>4</th>\n",
       "      <td>5</td>\n",
       "      <td>RTR5</td>\n",
       "      <td>Mumbai</td>\n",
       "    </tr>\n",
       "  </tbody>\n",
       "</table>\n",
       "</div>"
      ],
      "text/plain": [
       "   rid  name   location\n",
       "0    1  RTR1    Chennai\n",
       "1    2  RTR2  Bangalore\n",
       "2    3  RTR3       Pune\n",
       "3    4  RTR4      Delhi\n",
       "4    5  RTR5     Mumbai"
      ]
     },
     "execution_count": 61,
     "metadata": {},
     "output_type": "execute_result"
    }
   ],
   "source": [
    "dfl"
   ]
  },
  {
   "cell_type": "code",
   "execution_count": 62,
   "id": "1bc57d03-fbdc-4308-bb61-05b9e1f3ed03",
   "metadata": {},
   "outputs": [
    {
     "name": "stderr",
     "output_type": "stream",
     "text": [
      "/home/ashish/anaconda3/envs/pyspark/lib/python3.9/site-packages/pyspark/pandas/utils.py:975: PandasAPIOnSparkAdviceWarning: If `index_col` is not specified for `read_csv`, the default index is attached which can cause additional overhead.\n",
      "  warnings.warn(message, PandasAPIOnSparkAdviceWarning)\n"
     ]
    }
   ],
   "source": [
    "dfp = ppd.read_csv('../in/RouterPurchase.tsv', sep = '\\t',\n",
    "                         names = ['rid', 'date', 'pmemory', 'smemory', 'cost'])"
   ]
  },
  {
   "cell_type": "code",
   "execution_count": 63,
   "id": "7d375107-1267-4b0c-bf64-f09bf9a54ee6",
   "metadata": {},
   "outputs": [
    {
     "data": {
      "text/html": [
       "<div>\n",
       "<style scoped>\n",
       "    .dataframe tbody tr th:only-of-type {\n",
       "        vertical-align: middle;\n",
       "    }\n",
       "\n",
       "    .dataframe tbody tr th {\n",
       "        vertical-align: top;\n",
       "    }\n",
       "\n",
       "    .dataframe thead th {\n",
       "        text-align: right;\n",
       "    }\n",
       "</style>\n",
       "<table border=\"1\" class=\"dataframe\">\n",
       "  <thead>\n",
       "    <tr style=\"text-align: right;\">\n",
       "      <th></th>\n",
       "      <th>rid</th>\n",
       "      <th>date</th>\n",
       "      <th>pmemory</th>\n",
       "      <th>smemory</th>\n",
       "      <th>cost</th>\n",
       "    </tr>\n",
       "  </thead>\n",
       "  <tbody>\n",
       "    <tr>\n",
       "      <th>0</th>\n",
       "      <td>1</td>\n",
       "      <td>9/3/2012</td>\n",
       "      <td>453232267</td>\n",
       "      <td>175913333</td>\n",
       "      <td>1000USD</td>\n",
       "    </tr>\n",
       "    <tr>\n",
       "      <th>1</th>\n",
       "      <td>2</td>\n",
       "      <td>9/7/2012</td>\n",
       "      <td>453232345</td>\n",
       "      <td>255913333</td>\n",
       "      <td>1500USD</td>\n",
       "    </tr>\n",
       "    <tr>\n",
       "      <th>2</th>\n",
       "      <td>3</td>\n",
       "      <td>6/10/2013</td>\n",
       "      <td>453232267</td>\n",
       "      <td>325913333</td>\n",
       "      <td>1200USD</td>\n",
       "    </tr>\n",
       "    <tr>\n",
       "      <th>3</th>\n",
       "      <td>4</td>\n",
       "      <td>9/3/2014</td>\n",
       "      <td>653235467</td>\n",
       "      <td>245913333</td>\n",
       "      <td>1000USD</td>\n",
       "    </tr>\n",
       "    <tr>\n",
       "      <th>4</th>\n",
       "      <td>5</td>\n",
       "      <td>7/7/2014</td>\n",
       "      <td>373232267</td>\n",
       "      <td>465913333</td>\n",
       "      <td>1300USD</td>\n",
       "    </tr>\n",
       "  </tbody>\n",
       "</table>\n",
       "</div>"
      ],
      "text/plain": [
       "   rid       date    pmemory    smemory     cost\n",
       "0    1   9/3/2012  453232267  175913333  1000USD\n",
       "1    2   9/7/2012  453232345  255913333  1500USD\n",
       "2    3  6/10/2013  453232267  325913333  1200USD\n",
       "3    4   9/3/2014  653235467  245913333  1000USD\n",
       "4    5   7/7/2014  373232267  465913333  1300USD"
      ]
     },
     "execution_count": 63,
     "metadata": {},
     "output_type": "execute_result"
    }
   ],
   "source": [
    "dfp"
   ]
  },
  {
   "cell_type": "code",
   "execution_count": 64,
   "id": "564ab70b-2a60-4d44-abee-d0f0c7448f71",
   "metadata": {},
   "outputs": [],
   "source": [
    "res = ppd.merge(dfl, dfp, on=\"rid\", how = 'inner')"
   ]
  },
  {
   "cell_type": "code",
   "execution_count": 65,
   "id": "31bc6c2e-b039-4186-9163-22efe8486b72",
   "metadata": {},
   "outputs": [
    {
     "data": {
      "text/html": [
       "<div>\n",
       "<style scoped>\n",
       "    .dataframe tbody tr th:only-of-type {\n",
       "        vertical-align: middle;\n",
       "    }\n",
       "\n",
       "    .dataframe tbody tr th {\n",
       "        vertical-align: top;\n",
       "    }\n",
       "\n",
       "    .dataframe thead th {\n",
       "        text-align: right;\n",
       "    }\n",
       "</style>\n",
       "<table border=\"1\" class=\"dataframe\">\n",
       "  <thead>\n",
       "    <tr style=\"text-align: right;\">\n",
       "      <th></th>\n",
       "      <th>rid</th>\n",
       "      <th>name</th>\n",
       "      <th>location</th>\n",
       "      <th>date</th>\n",
       "      <th>pmemory</th>\n",
       "      <th>smemory</th>\n",
       "      <th>cost</th>\n",
       "    </tr>\n",
       "  </thead>\n",
       "  <tbody>\n",
       "    <tr>\n",
       "      <th>0</th>\n",
       "      <td>1</td>\n",
       "      <td>RTR1</td>\n",
       "      <td>Chennai</td>\n",
       "      <td>9/3/2012</td>\n",
       "      <td>453232267</td>\n",
       "      <td>175913333</td>\n",
       "      <td>1000USD</td>\n",
       "    </tr>\n",
       "    <tr>\n",
       "      <th>1</th>\n",
       "      <td>2</td>\n",
       "      <td>RTR2</td>\n",
       "      <td>Bangalore</td>\n",
       "      <td>9/7/2012</td>\n",
       "      <td>453232345</td>\n",
       "      <td>255913333</td>\n",
       "      <td>1500USD</td>\n",
       "    </tr>\n",
       "    <tr>\n",
       "      <th>2</th>\n",
       "      <td>3</td>\n",
       "      <td>RTR3</td>\n",
       "      <td>Pune</td>\n",
       "      <td>6/10/2013</td>\n",
       "      <td>453232267</td>\n",
       "      <td>325913333</td>\n",
       "      <td>1200USD</td>\n",
       "    </tr>\n",
       "    <tr>\n",
       "      <th>3</th>\n",
       "      <td>4</td>\n",
       "      <td>RTR4</td>\n",
       "      <td>Delhi</td>\n",
       "      <td>9/3/2014</td>\n",
       "      <td>653235467</td>\n",
       "      <td>245913333</td>\n",
       "      <td>1000USD</td>\n",
       "    </tr>\n",
       "    <tr>\n",
       "      <th>4</th>\n",
       "      <td>5</td>\n",
       "      <td>RTR5</td>\n",
       "      <td>Mumbai</td>\n",
       "      <td>7/7/2014</td>\n",
       "      <td>373232267</td>\n",
       "      <td>465913333</td>\n",
       "      <td>1300USD</td>\n",
       "    </tr>\n",
       "  </tbody>\n",
       "</table>\n",
       "</div>"
      ],
      "text/plain": [
       "   rid  name   location       date    pmemory    smemory     cost\n",
       "0    1  RTR1    Chennai   9/3/2012  453232267  175913333  1000USD\n",
       "1    2  RTR2  Bangalore   9/7/2012  453232345  255913333  1500USD\n",
       "2    3  RTR3       Pune  6/10/2013  453232267  325913333  1200USD\n",
       "3    4  RTR4      Delhi   9/3/2014  653235467  245913333  1000USD\n",
       "4    5  RTR5     Mumbai   7/7/2014  373232267  465913333  1300USD"
      ]
     },
     "execution_count": 65,
     "metadata": {},
     "output_type": "execute_result"
    }
   ],
   "source": [
    "res"
   ]
  },
  {
   "cell_type": "code",
   "execution_count": null,
   "id": "c0313f16-fe63-4afc-9a3a-1cf984fa3379",
   "metadata": {},
   "outputs": [],
   "source": []
  }
 ],
 "metadata": {
  "kernelspec": {
   "display_name": "pyspark",
   "language": "python",
   "name": "pyspark"
  },
  "language_info": {
   "codemirror_mode": {
    "name": "ipython",
    "version": 3
   },
   "file_extension": ".py",
   "mimetype": "text/x-python",
   "name": "python",
   "nbconvert_exporter": "python",
   "pygments_lexer": "ipython3",
   "version": "3.9.0"
  }
 },
 "nbformat": 4,
 "nbformat_minor": 5
}
