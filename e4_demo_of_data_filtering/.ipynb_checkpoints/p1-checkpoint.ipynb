{
 "cells": [
  {
   "cell_type": "raw",
   "id": "5e56b0ff-3b7c-410a-bf1e-449d681289e1",
   "metadata": {},
   "source": [
    "Requirement 1:\n",
    "\n",
    "List all Senior citizens who have moved out (Churn = Y) of the service provider\n",
    "\n",
    "Schema details:\n",
    "\n",
    "CustomerID, Mobile Number, Gender, SeniorCitizen Flag, Mode, Calls, SMS, Internet Service Status, MonthlyCharges (USD), CustomerChurn Flag"
   ]
  },
  {
   "cell_type": "code",
   "execution_count": 1,
   "id": "d7bef926-6853-424d-9e96-f228eb766d40",
   "metadata": {},
   "outputs": [
    {
     "name": "stdout",
     "output_type": "stream",
     "text": [
      "23/02/01 22:47:33 WARN Utils: Your hostname, ashish-Lenovo-ideapad-130-15IKB resolves to a loopback address: 127.0.1.1; using 192.168.1.187 instead (on interface wlp2s0)\n",
      "23/02/01 22:47:33 WARN Utils: Set SPARK_LOCAL_IP if you need to bind to another address\n"
     ]
    },
    {
     "name": "stderr",
     "output_type": "stream",
     "text": [
      "Setting default log level to \"WARN\".\n",
      "To adjust logging level use sc.setLogLevel(newLevel). For SparkR, use setLogLevel(newLevel).\n"
     ]
    },
    {
     "name": "stdout",
     "output_type": "stream",
     "text": [
      "23/02/01 22:47:34 WARN NativeCodeLoader: Unable to load native-hadoop library for your platform... using builtin-java classes where applicable\n",
      "23/02/01 22:47:36 WARN Utils: Service 'SparkUI' could not bind on port 4040. Attempting port 4041.\n"
     ]
    }
   ],
   "source": [
    "from pyspark import SparkContext\n",
    "sc = SparkContext.getOrCreate()"
   ]
  },
  {
   "cell_type": "markdown",
   "id": "ca96bcbf-921c-4bb0-bef4-20e787fb02b3",
   "metadata": {},
   "source": [
    "# 1. Using RDD"
   ]
  },
  {
   "cell_type": "code",
   "execution_count": 2,
   "id": "9d7aaa96-728d-4890-a5ca-4023074735e6",
   "metadata": {},
   "outputs": [],
   "source": [
    "ChurnRDD = sc.textFile(\"../in/TelecomData.csv\")"
   ]
  },
  {
   "cell_type": "code",
   "execution_count": 3,
   "id": "dc48436d-0e15-471f-bfdf-6e0d16466953",
   "metadata": {},
   "outputs": [],
   "source": [
    "#apply filter transformation\n",
    "FilteredRDD = ChurnRDD.filter(lambda record: record.split(\",\")[3] == \"Y\" and record.split(\",\")[9] == \"Y\")"
   ]
  },
  {
   "cell_type": "code",
   "execution_count": 6,
   "id": "87e3fb97-0221-43c1-8d46-9d49c1191f45",
   "metadata": {},
   "outputs": [
    {
     "data": {
      "text/plain": [
       "['TXCUST00009,982120008,Male,Y,PrePaid,Active,Active,InActive,15,Y',\n",
       " 'TXCUST00186,982120185,Male,Y,PrePaid,Active,Active,Active,80,Y',\n",
       " 'TXCUST00187,982120186,Male,Y,PrePaid,Active,Active,Active,90,Y',\n",
       " 'TXCUST00188,982120187,Male,Y,PrePaid,Active,Active,Active,100,Y',\n",
       " 'TXCUST00189,982120188,Male,Y,PrePaid,Active,Active,Active,65,Y']"
      ]
     },
     "execution_count": 6,
     "metadata": {},
     "output_type": "execute_result"
    }
   ],
   "source": [
    "FilteredRDD.take(5)"
   ]
  },
  {
   "cell_type": "markdown",
   "id": "17d002b6-c532-49a0-8ce9-e8bf628bcb27",
   "metadata": {},
   "source": [
    "# 2. Using SQL DataFrame"
   ]
  },
  {
   "cell_type": "code",
   "execution_count": 8,
   "id": "20eb0e08-c0b6-4c67-966d-72655a321360",
   "metadata": {},
   "outputs": [],
   "source": [
    "from pyspark.sql import SparkSession\n",
    "\n",
    "spark = SparkSession.builder.getOrCreate()"
   ]
  },
  {
   "cell_type": "code",
   "execution_count": 20,
   "id": "b9a495f8-cb75-4851-9937-bc984e061aa9",
   "metadata": {},
   "outputs": [
    {
     "name": "stdout",
     "output_type": "stream",
     "text": [
      "+-----------+---------+----+---+--------+------+------+--------+---+---+\n",
      "|        _c0|      _c1| _c2|_c3|     _c4|   _c5|   _c6|     _c7|_c8|_c9|\n",
      "+-----------+---------+----+---+--------+------+------+--------+---+---+\n",
      "|TXCUST00001|982120000|Male|  N| PrePaid|Active|Active|InActive| 20|  N|\n",
      "|TXCUST00002|982120001|Male|  N|PostPaid|Active|Active|InActive| 25|  N|\n",
      "|TXCUST00003|982120002|Male|  N| PrePaid|Active|Active|InActive| 20|  Y|\n",
      "|TXCUST00004|982120003|Male|  Y| PrePaid|Active|Active|InActive| 25|  N|\n",
      "|TXCUST00005|982120004|Male|  N| PrePaid|Active|Active|InActive| 15|  N|\n",
      "+-----------+---------+----+---+--------+------+------+--------+---+---+\n",
      "only showing top 5 rows\n",
      "\n"
     ]
    }
   ],
   "source": [
    "df = spark.read.option(\"header\", False).csv('../in/TelecomData.csv')\n",
    "df.show(5)"
   ]
  },
  {
   "cell_type": "code",
   "execution_count": 22,
   "id": "51859d12-7334-4c53-8e9f-6601e2732356",
   "metadata": {},
   "outputs": [],
   "source": [
    "df = df.withColumnRenamed(\"_c0\", \"CustomerID\") \\\n",
    ".withColumnRenamed(\"_c1\", \"Mobile Number\") \\\n",
    ".withColumnRenamed(\"_c2\", \"Gender\") \\\n",
    ".withColumnRenamed(\"_c3\", \"SeniorCitizen\") \\\n",
    ".withColumnRenamed(\"_c9\", \"CustomerChurn\")"
   ]
  },
  {
   "cell_type": "code",
   "execution_count": 23,
   "id": "f6b99faf-734b-42b0-9bb6-4cdbe4eaac27",
   "metadata": {},
   "outputs": [
    {
     "name": "stdout",
     "output_type": "stream",
     "text": [
      "+-----------+-------------+------+-------------+--------+------+------+--------+---+-------------+\n",
      "| CustomerID|Mobile Number|Gender|SeniorCitizen|     _c4|   _c5|   _c6|     _c7|_c8|CustomerChurn|\n",
      "+-----------+-------------+------+-------------+--------+------+------+--------+---+-------------+\n",
      "|TXCUST00001|    982120000|  Male|            N| PrePaid|Active|Active|InActive| 20|            N|\n",
      "|TXCUST00002|    982120001|  Male|            N|PostPaid|Active|Active|InActive| 25|            N|\n",
      "|TXCUST00003|    982120002|  Male|            N| PrePaid|Active|Active|InActive| 20|            Y|\n",
      "|TXCUST00004|    982120003|  Male|            Y| PrePaid|Active|Active|InActive| 25|            N|\n",
      "|TXCUST00005|    982120004|  Male|            N| PrePaid|Active|Active|InActive| 15|            N|\n",
      "+-----------+-------------+------+-------------+--------+------+------+--------+---+-------------+\n",
      "only showing top 5 rows\n",
      "\n"
     ]
    }
   ],
   "source": [
    "df.show(5)"
   ]
  },
  {
   "cell_type": "code",
   "execution_count": 29,
   "id": "2f0d18dc-af7d-4ecc-aa9f-3f6126216870",
   "metadata": {},
   "outputs": [
    {
     "name": "stdout",
     "output_type": "stream",
     "text": [
      "+-----------+-------------+------+-------------+-------+------+------+--------+---+-------------+\n",
      "| CustomerID|Mobile Number|Gender|SeniorCitizen|    _c4|   _c5|   _c6|     _c7|_c8|CustomerChurn|\n",
      "+-----------+-------------+------+-------------+-------+------+------+--------+---+-------------+\n",
      "|TXCUST00009|    982120008|  Male|            Y|PrePaid|Active|Active|InActive| 15|            Y|\n",
      "|TXCUST00186|    982120185|  Male|            Y|PrePaid|Active|Active|  Active| 80|            Y|\n",
      "|TXCUST00187|    982120186|  Male|            Y|PrePaid|Active|Active|  Active| 90|            Y|\n",
      "|TXCUST00188|    982120187|  Male|            Y|PrePaid|Active|Active|  Active|100|            Y|\n",
      "|TXCUST00189|    982120188|  Male|            Y|PrePaid|Active|Active|  Active| 65|            Y|\n",
      "+-----------+-------------+------+-------------+-------+------+------+--------+---+-------------+\n",
      "only showing top 5 rows\n",
      "\n"
     ]
    }
   ],
   "source": [
    "df.filter(\"SeniorCitizen == 'Y' and CustomerChurn == 'Y'\").show(5)"
   ]
  },
  {
   "cell_type": "code",
   "execution_count": 33,
   "id": "ce041a17-97b3-4ff5-a17b-a035c6cd9d85",
   "metadata": {},
   "outputs": [
    {
     "data": {
      "text/plain": [
       "[Row(CustomerID='TXCUST00009', Mobile Number='982120008', Gender='Male', SeniorCitizen='Y', _c4='PrePaid', _c5='Active', _c6='Active', _c7='InActive', _c8='15', CustomerChurn='Y'),\n",
       " Row(CustomerID='TXCUST00186', Mobile Number='982120185', Gender='Male', SeniorCitizen='Y', _c4='PrePaid', _c5='Active', _c6='Active', _c7='Active', _c8='80', CustomerChurn='Y'),\n",
       " Row(CustomerID='TXCUST00187', Mobile Number='982120186', Gender='Male', SeniorCitizen='Y', _c4='PrePaid', _c5='Active', _c6='Active', _c7='Active', _c8='90', CustomerChurn='Y'),\n",
       " Row(CustomerID='TXCUST00188', Mobile Number='982120187', Gender='Male', SeniorCitizen='Y', _c4='PrePaid', _c5='Active', _c6='Active', _c7='Active', _c8='100', CustomerChurn='Y'),\n",
       " Row(CustomerID='TXCUST00189', Mobile Number='982120188', Gender='Male', SeniorCitizen='Y', _c4='PrePaid', _c5='Active', _c6='Active', _c7='Active', _c8='65', CustomerChurn='Y')]"
      ]
     },
     "execution_count": 33,
     "metadata": {},
     "output_type": "execute_result"
    }
   ],
   "source": [
    "# According to Spark documentation, Spark SQL DataFrames, \"where() is an alias for filter()\"\n",
    "\n",
    "df.where(\"SeniorCitizen == 'Y' and CustomerChurn == 'Y'\").head(5)"
   ]
  },
  {
   "cell_type": "markdown",
   "id": "e66716c4-d52d-4f29-83eb-10f4d794c854",
   "metadata": {},
   "source": [
    "# 3. Using Pandas on PySpark"
   ]
  },
  {
   "cell_type": "code",
   "execution_count": 37,
   "id": "93ee0a9a-5a51-4984-9184-dbe410874e85",
   "metadata": {},
   "outputs": [
    {
     "name": "stderr",
     "output_type": "stream",
     "text": [
      "/home/ashish/anaconda3/envs/pyspark/lib/python3.9/site-packages/pyspark/pandas/utils.py:975: PandasAPIOnSparkAdviceWarning: If `index_col` is not specified for `read_csv`, the default index is attached which can cause additional overhead.\n",
      "  warnings.warn(message, PandasAPIOnSparkAdviceWarning)\n"
     ]
    }
   ],
   "source": [
    "from pyspark import pandas as ppd\n",
    "df_pandas = ppd.read_csv('../in/TelecomData.csv', \n",
    "                         names = ['CustomerID', 'MobileNumber', 'Gender', 'SeniorCitizen', 'Mode', 'Calls', 'SMS', 'InternetServiceStatus', 'MonthlyCharges', 'CustomerChurn'])"
   ]
  },
  {
   "cell_type": "code",
   "execution_count": 38,
   "id": "4b9409ed-ec06-4ba2-b6db-23b576e847f7",
   "metadata": {},
   "outputs": [
    {
     "data": {
      "text/html": [
       "<div>\n",
       "<style scoped>\n",
       "    .dataframe tbody tr th:only-of-type {\n",
       "        vertical-align: middle;\n",
       "    }\n",
       "\n",
       "    .dataframe tbody tr th {\n",
       "        vertical-align: top;\n",
       "    }\n",
       "\n",
       "    .dataframe thead th {\n",
       "        text-align: right;\n",
       "    }\n",
       "</style>\n",
       "<table border=\"1\" class=\"dataframe\">\n",
       "  <thead>\n",
       "    <tr style=\"text-align: right;\">\n",
       "      <th></th>\n",
       "      <th>CustomerID</th>\n",
       "      <th>MobileNumber</th>\n",
       "      <th>Gender</th>\n",
       "      <th>SeniorCitizen</th>\n",
       "      <th>Mode</th>\n",
       "      <th>Calls</th>\n",
       "      <th>SMS</th>\n",
       "      <th>InternetServiceStatus</th>\n",
       "      <th>MonthlyCharges</th>\n",
       "      <th>CustomerChurn</th>\n",
       "    </tr>\n",
       "  </thead>\n",
       "  <tbody>\n",
       "    <tr>\n",
       "      <th>0</th>\n",
       "      <td>TXCUST00001</td>\n",
       "      <td>982120000</td>\n",
       "      <td>Male</td>\n",
       "      <td>N</td>\n",
       "      <td>PrePaid</td>\n",
       "      <td>Active</td>\n",
       "      <td>Active</td>\n",
       "      <td>InActive</td>\n",
       "      <td>20</td>\n",
       "      <td>N</td>\n",
       "    </tr>\n",
       "    <tr>\n",
       "      <th>1</th>\n",
       "      <td>TXCUST00002</td>\n",
       "      <td>982120001</td>\n",
       "      <td>Male</td>\n",
       "      <td>N</td>\n",
       "      <td>PostPaid</td>\n",
       "      <td>Active</td>\n",
       "      <td>Active</td>\n",
       "      <td>InActive</td>\n",
       "      <td>25</td>\n",
       "      <td>N</td>\n",
       "    </tr>\n",
       "    <tr>\n",
       "      <th>2</th>\n",
       "      <td>TXCUST00003</td>\n",
       "      <td>982120002</td>\n",
       "      <td>Male</td>\n",
       "      <td>N</td>\n",
       "      <td>PrePaid</td>\n",
       "      <td>Active</td>\n",
       "      <td>Active</td>\n",
       "      <td>InActive</td>\n",
       "      <td>20</td>\n",
       "      <td>Y</td>\n",
       "    </tr>\n",
       "    <tr>\n",
       "      <th>3</th>\n",
       "      <td>TXCUST00004</td>\n",
       "      <td>982120003</td>\n",
       "      <td>Male</td>\n",
       "      <td>Y</td>\n",
       "      <td>PrePaid</td>\n",
       "      <td>Active</td>\n",
       "      <td>Active</td>\n",
       "      <td>InActive</td>\n",
       "      <td>25</td>\n",
       "      <td>N</td>\n",
       "    </tr>\n",
       "    <tr>\n",
       "      <th>4</th>\n",
       "      <td>TXCUST00005</td>\n",
       "      <td>982120004</td>\n",
       "      <td>Male</td>\n",
       "      <td>N</td>\n",
       "      <td>PrePaid</td>\n",
       "      <td>Active</td>\n",
       "      <td>Active</td>\n",
       "      <td>InActive</td>\n",
       "      <td>15</td>\n",
       "      <td>N</td>\n",
       "    </tr>\n",
       "  </tbody>\n",
       "</table>\n",
       "</div>"
      ],
      "text/plain": [
       "    CustomerID  MobileNumber Gender SeniorCitizen      Mode   Calls     SMS InternetServiceStatus  MonthlyCharges CustomerChurn\n",
       "0  TXCUST00001     982120000   Male             N   PrePaid  Active  Active              InActive              20             N\n",
       "1  TXCUST00002     982120001   Male             N  PostPaid  Active  Active              InActive              25             N\n",
       "2  TXCUST00003     982120002   Male             N   PrePaid  Active  Active              InActive              20             Y\n",
       "3  TXCUST00004     982120003   Male             Y   PrePaid  Active  Active              InActive              25             N\n",
       "4  TXCUST00005     982120004   Male             N   PrePaid  Active  Active              InActive              15             N"
      ]
     },
     "execution_count": 38,
     "metadata": {},
     "output_type": "execute_result"
    }
   ],
   "source": [
    "df_pandas.head()"
   ]
  },
  {
   "cell_type": "code",
   "execution_count": 43,
   "id": "0058344b-91d4-4698-95dc-dab1475a40f8",
   "metadata": {},
   "outputs": [],
   "source": [
    "res = df_pandas[(df_pandas['SeniorCitizen'] == 'Y') & (df_pandas['CustomerChurn'] == 'Y')]"
   ]
  },
  {
   "cell_type": "code",
   "execution_count": 46,
   "id": "f0cfd195-5725-43bc-82a3-728ed58b01a0",
   "metadata": {},
   "outputs": [
    {
     "data": {
      "text/html": [
       "<div>\n",
       "<style scoped>\n",
       "    .dataframe tbody tr th:only-of-type {\n",
       "        vertical-align: middle;\n",
       "    }\n",
       "\n",
       "    .dataframe tbody tr th {\n",
       "        vertical-align: top;\n",
       "    }\n",
       "\n",
       "    .dataframe thead th {\n",
       "        text-align: right;\n",
       "    }\n",
       "</style>\n",
       "<table border=\"1\" class=\"dataframe\">\n",
       "  <thead>\n",
       "    <tr style=\"text-align: right;\">\n",
       "      <th></th>\n",
       "      <th>CustomerID</th>\n",
       "      <th>SeniorCitizen</th>\n",
       "      <th>CustomerChurn</th>\n",
       "    </tr>\n",
       "  </thead>\n",
       "  <tbody>\n",
       "    <tr>\n",
       "      <th>8</th>\n",
       "      <td>TXCUST00009</td>\n",
       "      <td>Y</td>\n",
       "      <td>Y</td>\n",
       "    </tr>\n",
       "    <tr>\n",
       "      <th>185</th>\n",
       "      <td>TXCUST00186</td>\n",
       "      <td>Y</td>\n",
       "      <td>Y</td>\n",
       "    </tr>\n",
       "    <tr>\n",
       "      <th>186</th>\n",
       "      <td>TXCUST00187</td>\n",
       "      <td>Y</td>\n",
       "      <td>Y</td>\n",
       "    </tr>\n",
       "    <tr>\n",
       "      <th>187</th>\n",
       "      <td>TXCUST00188</td>\n",
       "      <td>Y</td>\n",
       "      <td>Y</td>\n",
       "    </tr>\n",
       "    <tr>\n",
       "      <th>188</th>\n",
       "      <td>TXCUST00189</td>\n",
       "      <td>Y</td>\n",
       "      <td>Y</td>\n",
       "    </tr>\n",
       "  </tbody>\n",
       "</table>\n",
       "</div>"
      ],
      "text/plain": [
       "      CustomerID SeniorCitizen CustomerChurn\n",
       "8    TXCUST00009             Y             Y\n",
       "185  TXCUST00186             Y             Y\n",
       "186  TXCUST00187             Y             Y\n",
       "187  TXCUST00188             Y             Y\n",
       "188  TXCUST00189             Y             Y"
      ]
     },
     "execution_count": 46,
     "metadata": {},
     "output_type": "execute_result"
    }
   ],
   "source": [
    "res[['CustomerID', 'SeniorCitizen', 'CustomerChurn']].head()"
   ]
  },
  {
   "cell_type": "code",
   "execution_count": null,
   "id": "4bcfbce2-acb8-4eb9-a2b8-22d5dd30b930",
   "metadata": {},
   "outputs": [],
   "source": []
  }
 ],
 "metadata": {
  "kernelspec": {
   "display_name": "pyspark",
   "language": "python",
   "name": "pyspark"
  },
  "language_info": {
   "codemirror_mode": {
    "name": "ipython",
    "version": 3
   },
   "file_extension": ".py",
   "mimetype": "text/x-python",
   "name": "python",
   "nbconvert_exporter": "python",
   "pygments_lexer": "ipython3",
   "version": "3.9.0"
  }
 },
 "nbformat": 4,
 "nbformat_minor": 5
}
