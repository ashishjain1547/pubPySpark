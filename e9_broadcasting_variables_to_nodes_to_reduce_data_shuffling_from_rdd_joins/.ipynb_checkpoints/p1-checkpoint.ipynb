{
 "cells": [
  {
   "cell_type": "raw",
   "id": "0410b702-d0fa-4446-882a-0f245d6746a4",
   "metadata": {},
   "source": [
    "Broadcast variables\n",
    "\n",
    "Broadcast variable is used to send the large datasets to all the worker nodes that can be used as a lookup\n",
    "Cached on each machine rather than moving a copy of it with tasks\n",
    "Broadcast variables are read-only.\n",
    "\n",
    "Requirement: Telecom customer data is distributed across 4 slave nodes in HDFS. As part of this data processing requirement, the international roaming dataset needs to be used as a lookup. The initial solution implemented is by creating two RDDs and joining them.\n",
    "\n",
    "This led to performance issues due to a massive amount of data shuffling.\n",
    "\n",
    "Solution: Broadcasting the roaming dataset into all worker nodes (where the job is getting executed) and using it as a lookup."
   ]
  },
  {
   "cell_type": "code",
   "execution_count": 2,
   "id": "e4164eb9-3468-48ba-8793-d9cdb0eda3e8",
   "metadata": {},
   "outputs": [
    {
     "name": "stdout",
     "output_type": "stream",
     "text": [
      "23/02/08 09:13:46 WARN Utils: Your hostname, ashish-Lenovo-ideapad-130-15IKB resolves to a loopback address: 127.0.1.1; using 192.168.1.108 instead (on interface wlp2s0)\n",
      "23/02/08 09:13:46 WARN Utils: Set SPARK_LOCAL_IP if you need to bind to another address\n"
     ]
    },
    {
     "name": "stderr",
     "output_type": "stream",
     "text": [
      "Setting default log level to \"WARN\".\n",
      "To adjust logging level use sc.setLogLevel(newLevel). For SparkR, use setLogLevel(newLevel).\n"
     ]
    },
    {
     "name": "stdout",
     "output_type": "stream",
     "text": [
      "23/02/08 09:13:47 WARN NativeCodeLoader: Unable to load native-hadoop library for your platform... using builtin-java classes where applicable\n",
      "23/02/08 09:13:48 WARN Utils: Service 'SparkUI' could not bind on port 4040. Attempting port 4041.\n",
      "23/02/08 09:13:48 WARN Utils: Service 'SparkUI' could not bind on port 4041. Attempting port 4042.\n"
     ]
    }
   ],
   "source": [
    "from pyspark import SparkContext\n",
    "sc = SparkContext.getOrCreate()"
   ]
  },
  {
   "cell_type": "code",
   "execution_count": 3,
   "id": "96665358-c580-4e62-b94e-3254a42de0a8",
   "metadata": {},
   "outputs": [],
   "source": [
    "# Create an RDD with the Roaming dataset\n",
    "IRDD = sc.textFile(\"../in/BroadCastData.csv\")"
   ]
  },
  {
   "cell_type": "code",
   "execution_count": 4,
   "id": "c20ec9b5-3af3-4d4f-86a4-1ae176a30db8",
   "metadata": {},
   "outputs": [
    {
     "name": "stderr",
     "output_type": "stream",
     "text": [
      "                                                                                \r"
     ]
    },
    {
     "data": {
      "text/plain": [
       "['982120000,United States',\n",
       " '982120001,Australia',\n",
       " '982120002,Germany',\n",
       " '982120003,France',\n",
       " '982120004,India',\n",
       " '982120005,Canada',\n",
       " '982120006,Germany',\n",
       " '982120007,France',\n",
       " '982120008,India',\n",
       " '982120009,Canada',\n",
       " '982120010,Germany',\n",
       " '982120011,France',\n",
       " '982120012,India',\n",
       " '982120013,Canada',\n",
       " '982120014,United States',\n",
       " '982120015,Australia',\n",
       " '982120016,Germany',\n",
       " '982120017,France',\n",
       " '982120018,India',\n",
       " '982120019,Canada',\n",
       " '982120020,Germany',\n",
       " '982120021,France',\n",
       " '982120022,India',\n",
       " '982120023,Canada',\n",
       " '982120024,Germany',\n",
       " '982120025,France',\n",
       " '982120026,India',\n",
       " '982120027,Canada',\n",
       " '982120028,United States',\n",
       " '982120029,Australia',\n",
       " '982120030,Germany',\n",
       " '982120031,France',\n",
       " '982120032,India',\n",
       " '982120033,Canada',\n",
       " '982120034,Germany',\n",
       " '982120035,France',\n",
       " '982120036,India',\n",
       " '982120037,Canada',\n",
       " '982120038,Germany',\n",
       " '982120039,France',\n",
       " '982120040,India',\n",
       " '982120041,Canada']"
      ]
     },
     "execution_count": 4,
     "metadata": {},
     "output_type": "execute_result"
    }
   ],
   "source": [
    "IRDD.collect()"
   ]
  },
  {
   "cell_type": "code",
   "execution_count": 5,
   "id": "a1244cb6-a9d5-43a5-869f-a69b8ebcd750",
   "metadata": {},
   "outputs": [
    {
     "name": "stderr",
     "output_type": "stream",
     "text": [
      "                                                                                \r"
     ]
    }
   ],
   "source": [
    "#Create a Paired RDD\n",
    "PairIRDD = IRDD.map(lambda k : (int(k.split(\",\")[0]), k.split(\",\")[1]))\n",
    "#RDD can not be broadcasted. We need to convert it to a value.\n",
    "#convert the paired RDD to a Map collection and Broadcast\n",
    "broadcastStates = sc.broadcast(dict(PairIRDD.collect()))"
   ]
  },
  {
   "cell_type": "code",
   "execution_count": 6,
   "id": "e889b51e-0fa0-4ffb-b0c5-96905d9a2384",
   "metadata": {},
   "outputs": [],
   "source": [
    "#Create main RDD to be processed\n",
    "TRDD = sc.textFile(\"../in/TelecomData.csv\")"
   ]
  },
  {
   "cell_type": "code",
   "execution_count": 7,
   "id": "8df47b36-1999-4329-b156-2f212d61c65e",
   "metadata": {},
   "outputs": [
    {
     "data": {
      "text/plain": [
       "['TXCUST00001,982120000,Male,N,PrePaid,Active,Active,InActive,20,N',\n",
       " 'TXCUST00002,982120001,Male,N,PostPaid,Active,Active,InActive,25,N',\n",
       " 'TXCUST00003,982120002,Male,N,PrePaid,Active,Active,InActive,20,Y',\n",
       " 'TXCUST00004,982120003,Male,Y,PrePaid,Active,Active,InActive,25,N',\n",
       " 'TXCUST00005,982120004,Male,N,PrePaid,Active,Active,InActive,15,N']"
      ]
     },
     "execution_count": 7,
     "metadata": {},
     "output_type": "execute_result"
    }
   ],
   "source": [
    "TRDD.take(5)"
   ]
  },
  {
   "cell_type": "code",
   "execution_count": 11,
   "id": "1651e979-cba8-49a7-b012-3fa3a2537b98",
   "metadata": {},
   "outputs": [
    {
     "data": {
      "text/plain": [
       "500"
      ]
     },
     "execution_count": 11,
     "metadata": {},
     "output_type": "execute_result"
    }
   ],
   "source": [
    "TRDD.count()"
   ]
  },
  {
   "cell_type": "code",
   "execution_count": 8,
   "id": "b79bfebd-f4bb-48ef-a782-e34ddbda8ee3",
   "metadata": {},
   "outputs": [],
   "source": [
    "#Access the broadcast value as a look-up data\n",
    "IRoam = TRDD.map(lambda k : (k.split(\",\")[0], int(k.split(\",\")[1]),broadcastStates.value.get(int(k.split(\",\")[1]))))"
   ]
  },
  {
   "cell_type": "code",
   "execution_count": 9,
   "id": "4486498a-a589-4177-9024-07522d43d28a",
   "metadata": {},
   "outputs": [
    {
     "data": {
      "text/plain": [
       "[('TXCUST00001', 982120000, 'United States'),\n",
       " ('TXCUST00002', 982120001, 'Australia'),\n",
       " ('TXCUST00003', 982120002, 'Germany'),\n",
       " ('TXCUST00004', 982120003, 'France'),\n",
       " ('TXCUST00005', 982120004, 'India')]"
      ]
     },
     "execution_count": 9,
     "metadata": {},
     "output_type": "execute_result"
    }
   ],
   "source": [
    "IRoam.take(5)"
   ]
  },
  {
   "cell_type": "code",
   "execution_count": 27,
   "id": "ebd73950-379a-41a0-98fe-5cb884b3932a",
   "metadata": {},
   "outputs": [
    {
     "data": {
      "text/plain": [
       "[('TXCUST00001', 982120000, 'United States'),\n",
       " ('TXCUST00002', 982120001, 'Australia'),\n",
       " ('TXCUST00003', 982120002, 'Germany'),\n",
       " ('TXCUST00004', 982120003, 'France'),\n",
       " ('TXCUST00005', 982120004, 'India'),\n",
       " ('TXCUST00006', 982120005, 'Canada'),\n",
       " ('TXCUST00007', 982120006, 'Germany'),\n",
       " ('TXCUST00008', 982120007, 'France'),\n",
       " ('TXCUST00009', 982120008, 'India'),\n",
       " ('TXCUST00010', 982120009, 'Canada'),\n",
       " ('TXCUST00011', 982120010, 'Germany'),\n",
       " ('TXCUST00012', 982120011, 'France'),\n",
       " ('TXCUST00013', 982120012, 'India'),\n",
       " ('TXCUST00014', 982120013, 'Canada'),\n",
       " ('TXCUST00015', 982120014, 'United States'),\n",
       " ('TXCUST00016', 982120015, 'Australia'),\n",
       " ('TXCUST00017', 982120016, 'Germany'),\n",
       " ('TXCUST00018', 982120017, 'France'),\n",
       " ('TXCUST00019', 982120018, 'India'),\n",
       " ('TXCUST00020', 982120019, 'Canada'),\n",
       " ('TXCUST00021', 982120020, 'Germany'),\n",
       " ('TXCUST00022', 982120021, 'France'),\n",
       " ('TXCUST00023', 982120022, 'India'),\n",
       " ('TXCUST00024', 982120023, 'Canada'),\n",
       " ('TXCUST00025', 982120024, 'Germany'),\n",
       " ('TXCUST00026', 982120025, 'France'),\n",
       " ('TXCUST00027', 982120026, 'India'),\n",
       " ('TXCUST00028', 982120027, 'Canada'),\n",
       " ('TXCUST00029', 982120028, 'United States'),\n",
       " ('TXCUST00030', 982120029, 'Australia'),\n",
       " ('TXCUST00031', 982120030, 'Germany'),\n",
       " ('TXCUST00032', 982120031, 'France'),\n",
       " ('TXCUST00033', 982120032, 'India'),\n",
       " ('TXCUST00034', 982120033, 'Canada'),\n",
       " ('TXCUST00035', 982120034, 'Germany'),\n",
       " ('TXCUST00036', 982120035, 'France'),\n",
       " ('TXCUST00037', 982120036, 'India'),\n",
       " ('TXCUST00038', 982120037, 'Canada'),\n",
       " ('TXCUST00039', 982120038, 'Germany'),\n",
       " ('TXCUST00040', 982120039, 'France'),\n",
       " ('TXCUST00041', 982120040, 'India'),\n",
       " ('TXCUST00042', 982120041, 'Canada'),\n",
       " ('TXCUST00043', 982120042, None),\n",
       " ('TXCUST00044', 982120043, None),\n",
       " ('TXCUST00045', 982120044, None),\n",
       " ('TXCUST00046', 982120045, None),\n",
       " ('TXCUST00047', 982120046, None),\n",
       " ('TXCUST00048', 982120047, None),\n",
       " ('TXCUST00049', 982120048, None),\n",
       " ('TXCUST00050', 982120049, None)]"
      ]
     },
     "execution_count": 27,
     "metadata": {},
     "output_type": "execute_result"
    }
   ],
   "source": [
    "IRoam.take(50)"
   ]
  },
  {
   "cell_type": "code",
   "execution_count": 10,
   "id": "a6f16814-d78d-4103-b9c5-57dd05efcb8c",
   "metadata": {},
   "outputs": [
    {
     "data": {
      "text/plain": [
       "500"
      ]
     },
     "execution_count": 10,
     "metadata": {},
     "output_type": "execute_result"
    }
   ],
   "source": [
    "IRoam.count()"
   ]
  },
  {
   "cell_type": "markdown",
   "id": "b1c8b750-9ae4-4a75-9c7b-4fcb7b135029",
   "metadata": {},
   "source": [
    "## Let us see if what we are doing is effectively a left join operation."
   ]
  },
  {
   "cell_type": "markdown",
   "id": "07592e0a-3b83-416d-b7e0-79314d4ef0be",
   "metadata": {},
   "source": [
    "### Checking if we have 982120042 in leftRDD \"TRDD\""
   ]
  },
  {
   "cell_type": "code",
   "execution_count": 20,
   "id": "547c5351-41fa-4c11-891a-6bfeba7a64e6",
   "metadata": {},
   "outputs": [
    {
     "data": {
      "text/plain": [
       "['TXCUST00043,982120042,Male,N,PostPaid,Active,Active,InActive,15,N']"
      ]
     },
     "execution_count": 20,
     "metadata": {},
     "output_type": "execute_result"
    }
   ],
   "source": [
    "FilteredRDD = TRDD.filter(lambda record: record.split(\",\")[1] == \"982120042\")\n",
    "FilteredRDD.collect()"
   ]
  },
  {
   "cell_type": "markdown",
   "id": "a17f5842-7d38-45ef-b166-317382272f13",
   "metadata": {},
   "source": [
    "### Checking if we have 982120042 in rightRDD \"IRDD\""
   ]
  },
  {
   "cell_type": "code",
   "execution_count": 28,
   "id": "43fe30ad-d03a-4751-b3d7-1aadffb20b6e",
   "metadata": {},
   "outputs": [
    {
     "data": {
      "text/plain": [
       "[]"
      ]
     },
     "execution_count": 28,
     "metadata": {},
     "output_type": "execute_result"
    }
   ],
   "source": [
    "FilteredRDD = IRDD.filter(lambda record: record.split(\",\")[0] == \"982120042\")\n",
    "FilteredRDD.collect()"
   ]
  },
  {
   "cell_type": "markdown",
   "id": "8503e85c-b18f-49ce-aa9b-fec84a1b1aed",
   "metadata": {},
   "source": [
    "### Checking if we have 982120042 in the output RDD \"IRoam\". Note that record in the IRoam is not a string but a tuple."
   ]
  },
  {
   "cell_type": "code",
   "execution_count": 29,
   "id": "f481f2d8-e3c8-45a5-b949-1fe0871293a7",
   "metadata": {},
   "outputs": [
    {
     "data": {
      "text/plain": [
       "[('TXCUST00043', 982120042, None)]"
      ]
     },
     "execution_count": 29,
     "metadata": {},
     "output_type": "execute_result"
    }
   ],
   "source": [
    "FilteredRDD = IRoam.filter(lambda record: record[1] == 982120042)\n",
    "FilteredRDD.collect()"
   ]
  },
  {
   "cell_type": "markdown",
   "id": "08ef6a43-1917-4002-ad75-ad1828a5758b",
   "metadata": {},
   "source": [
    "### Yes, it is effectively doing a left join (but more efficiently as there is less data shuffling through broadcasting)."
   ]
  },
  {
   "cell_type": "code",
   "execution_count": null,
   "id": "104932a6-3a8e-43f3-a16c-bfd86d2abab5",
   "metadata": {},
   "outputs": [],
   "source": []
  }
 ],
 "metadata": {
  "kernelspec": {
   "display_name": "pyspark",
   "language": "python",
   "name": "pyspark"
  },
  "language_info": {
   "codemirror_mode": {
    "name": "ipython",
    "version": 3
   },
   "file_extension": ".py",
   "mimetype": "text/x-python",
   "name": "python",
   "nbconvert_exporter": "python",
   "pygments_lexer": "ipython3",
   "version": "3.9.0"
  }
 },
 "nbformat": 4,
 "nbformat_minor": 5
}
